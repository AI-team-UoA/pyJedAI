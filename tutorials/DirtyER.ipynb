{
 "cells": [
  {
   "cell_type": "markdown",
   "id": "96ec678e-b20c-4213-8616-542010f46342",
   "metadata": {},
   "source": [
    "<div align=\"center\"> \n",
    "    <br>\n",
    "    <br>\n",
    "    <img src=\"https://raw.githubusercontent.com/Nikoletos-K/pyJedAI/main/documentation/pyjedai.logo.drawio.png?raw=true\" alt=\"drawing\" width=\"400\"/>\n",
    "    <br>\n",
    "    <hr>\n",
    "    <font size=\"3\">Dirty Entity Resolution Tutorial</font>\n",
    "    <br>\n",
    "</div>\n",
    "<hr>\n",
    "\n",
    "In this notebook we present the pyJedAI approach in the well-known ABT-BUY dataset. Dirty ER, is the process of dedeplication of one set."
   ]
  },
  {
   "cell_type": "markdown",
   "id": "5274855c-ba95-49b1-ba68-4f50ca2bbd89",
   "metadata": {},
   "source": [
    "# Instalation\n",
    "\n",
    "pyJedAI is an open-source library that can be installed from PyPI.\n",
    "\n",
    "For more: [pypi.org/project/pyjedai/](https://pypi.org/project/pyjedai/)"
   ]
  },
  {
   "cell_type": "code",
   "execution_count": null,
   "id": "776843a2-570d-4d87-bb1d-b5b61f07b1da",
   "metadata": {},
   "outputs": [],
   "source": [
    "!pip install pyjedai"
   ]
  },
  {
   "cell_type": "code",
   "execution_count": null,
   "id": "6d2e5cf7-ff2e-4271-9242-fe3d638263e9",
   "metadata": {},
   "outputs": [],
   "source": [
    "!pip show pyjedai"
   ]
  },
  {
   "cell_type": "markdown",
   "id": "15d28272-269a-4e87-bb03-0a45a5492a06",
   "metadata": {},
   "source": [
    "Imports"
   ]
  },
  {
   "cell_type": "code",
   "execution_count": 2,
   "id": "a0890ce6-3a10-4e66-913f-78095bd786a1",
   "metadata": {},
   "outputs": [],
   "source": [
    "import os\n",
    "import sys\n",
    "import pandas as pd\n",
    "import networkx\n",
    "from networkx import draw, Graph"
   ]
  },
  {
   "cell_type": "code",
   "execution_count": 3,
   "id": "4d4e6a90-9fd8-4f7a-bf4f-a5b994e0adfb",
   "metadata": {},
   "outputs": [],
   "source": [
    "from pyjedai.utils import print_clusters, print_blocks, print_candidate_pairs"
   ]
  },
  {
   "cell_type": "code",
   "execution_count": 4,
   "id": "d8ec46e5-6c7a-4e0c-a02c-6d56b4f32414",
   "metadata": {},
   "outputs": [],
   "source": [
    "from pyjedai.evaluation import Evaluation"
   ]
  },
  {
   "cell_type": "markdown",
   "id": "af77914f-5e76-4da8-a0ad-1c53e0111a0f",
   "metadata": {
    "tags": []
   },
   "source": [
    "### Data Reading"
   ]
  },
  {
   "cell_type": "code",
   "execution_count": 5,
   "id": "3d3feb89-1406-4c90-a1aa-dc2cf4707739",
   "metadata": {},
   "outputs": [],
   "source": [
    "from pyjedai.datamodel import Data\n",
    "\n",
    "d1 = pd.read_csv(\"./../data/cora/cora.csv\", sep='|')\n",
    "gt = pd.read_csv(\"./../data/cora/cora_gt.csv\", sep='|', header=None)\n",
    "attr = ['Entity Id','author', 'title']"
   ]
  },
  {
   "cell_type": "markdown",
   "id": "fda32323-c74d-4374-b322-5c11a175c3ea",
   "metadata": {},
   "source": [
    "Data is the connecting module of all steps of the workflow"
   ]
  },
  {
   "cell_type": "code",
   "execution_count": 6,
   "id": "e257597d-ea77-4090-ba34-e1038d8f9a0d",
   "metadata": {},
   "outputs": [],
   "source": [
    "data = Data(\n",
    "    dataset_1=d1,\n",
    "    id_column_name_1='Entity Id',\n",
    "    ground_truth=gt,\n",
    "    attributes_1=attr\n",
    ")\n",
    "\n",
    "data.process()"
   ]
  },
  {
   "cell_type": "markdown",
   "id": "93464edd-b88a-40d9-aa4d-7fe1523db662",
   "metadata": {},
   "source": [
    "# Workflow with Block Cleaning Methods\n",
    "\n",
    "In this notebook we created the bellow archtecture:\n",
    "\n",
    "![workflow1-cora.png](https://github.com/Nikoletos-K/pyJedAI/blob/main/documentation/workflow1-cora.png?raw=true)\n",
    "\n"
   ]
  },
  {
   "cell_type": "markdown",
   "id": "9c068252-4a69-405a-a320-c2875ec08ea5",
   "metadata": {},
   "source": [
    "### Block Building"
   ]
  },
  {
   "cell_type": "code",
   "execution_count": 7,
   "id": "9c1b6213-a218-40cf-bc72-801b77d28da9",
   "metadata": {},
   "outputs": [],
   "source": [
    "from pyjedai.block_building import (\n",
    "    StandardBlocking,\n",
    "    QGramsBlocking,\n",
    "    SuffixArraysBlocking,\n",
    "    ExtendedSuffixArraysBlocking,\n",
    "    ExtendedQGramsBlocking\n",
    ")"
   ]
  },
  {
   "cell_type": "code",
   "execution_count": 9,
   "id": "7ee34038-1352-440e-8c34-98c5cf036523",
   "metadata": {},
   "outputs": [
    {
     "data": {
      "application/vnd.jupyter.widget-view+json": {
       "model_id": "2fdd6e563cfa4df29505784021be23b3",
       "version_major": 2,
       "version_minor": 0
      },
      "text/plain": [
       "Suffix Arrays Blocking:   0%|          | 0/1295 [00:00<?, ?it/s]"
      ]
     },
     "metadata": {},
     "output_type": "display_data"
    }
   ],
   "source": [
    "blocks = SuffixArraysBlocking(\n",
    "    suffix_length=2\n",
    ").build_blocks(data)"
   ]
  },
  {
   "cell_type": "code",
   "execution_count": 10,
   "id": "b0ac846d-0f13-4b90-b4c8-688054ed7ffe",
   "metadata": {},
   "outputs": [
    {
     "name": "stdout",
     "output_type": "stream",
     "text": [
      "#  Evaluation \n",
      "---\n",
      "Scores:\n",
      "\tPrecision:      4.28% \n",
      "\tRecall:        75.77%\n",
      "\tF1-score:       8.10%\n",
      "Classification report:\n",
      "\tTrue positives: 13021\n",
      "\tFalse positives: 291336\n",
      "\tTrue negatives: 542366\n",
      "\tFalse negatives: 4163\n",
      "\tTotal comparisons: 304357\n",
      "---\n"
     ]
    }
   ],
   "source": [
    "Evaluation(data).report(blocks)"
   ]
  },
  {
   "cell_type": "markdown",
   "id": "709a3dfe-688e-4b94-834a-cb1f9f47a5f2",
   "metadata": {
    "tags": []
   },
   "source": [
    "#### OR EmbeddingsNNBlockBuilding"
   ]
  },
  {
   "cell_type": "code",
   "execution_count": null,
   "id": "3664fae2-7e65-4294-8709-3096d856fe08",
   "metadata": {},
   "outputs": [],
   "source": [
    "from pyjedai.vector_based_blocking import EmbeddingsNNBlockBuilding\n",
    "\n",
    "emb = EmbeddingsNNBlockBuilding(\n",
    "    vectorizer='bert',\n",
    "    similarity_search='faiss'\n",
    ")\n",
    "blocks = emb.build_blocks(data)"
   ]
  },
  {
   "cell_type": "code",
   "execution_count": 12,
   "id": "fea99e9a-6a4e-4acd-8035-aa4432c448fb",
   "metadata": {},
   "outputs": [
    {
     "name": "stdout",
     "output_type": "stream",
     "text": [
      "# Embeddings-NN Block Building Evaluation \n",
      "---\n",
      "Method name: Embeddings-NN Block Building\n",
      "Parameters: \n",
      "\tVectorizer: bert\n",
      "\tSimilarity-Search: faiss\n",
      "\tTop-K: 30\n",
      "\tVector size: 768\n",
      "Runtime: 806.5657 seconds\n",
      "Scores:\n",
      "\tPrecision:     28.98% \n",
      "\tRecall:        63.34%\n",
      "\tF1-score:      39.77%\n",
      "Classification report:\n",
      "\tTrue positives: 10885\n",
      "\tFalse positives: 26670\n",
      "\tTrue negatives: 804896\n",
      "\tFalse negatives: 6299\n",
      "\tTotal comparisons: 37555\n",
      "---\n"
     ]
    }
   ],
   "source": [
    "Evaluation(data).report(blocks, emb.method_configuration())"
   ]
  },
  {
   "cell_type": "markdown",
   "id": "9f9e77d5-c906-431a-bdc7-68dc9c00cc31",
   "metadata": {},
   "source": [
    "### Block Cleaning"
   ]
  },
  {
   "cell_type": "code",
   "execution_count": 12,
   "id": "9c2c0e42-485a-444e-9161-975f30d21a02",
   "metadata": {},
   "outputs": [],
   "source": [
    "from pyjedai.block_cleaning import BlockFiltering"
   ]
  },
  {
   "cell_type": "code",
   "execution_count": 13,
   "id": "bf5c20ac-b16a-484d-82b0-61ecb9e7f3ea",
   "metadata": {},
   "outputs": [
    {
     "data": {
      "application/vnd.jupyter.widget-view+json": {
       "model_id": "eea02ba380ad4aecb6bcd6073dc222e6",
       "version_major": 2,
       "version_minor": 0
      },
      "text/plain": [
       "Block Filtering:   0%|                                                                           | 0/3 [00:00<…"
      ]
     },
     "metadata": {},
     "output_type": "display_data"
    }
   ],
   "source": [
    "filtered_blocks = BlockFiltering(\n",
    "    ratio=0.9\n",
    ").process(blocks, data)"
   ]
  },
  {
   "cell_type": "code",
   "execution_count": 14,
   "id": "25fd0be0-91c3-4d0b-b596-c66dccba3c79",
   "metadata": {},
   "outputs": [
    {
     "name": "stdout",
     "output_type": "stream",
     "text": [
      "#  Evaluation \n",
      "---\n",
      "Scores:\n",
      "\tPrecision:      5.10% \n",
      "\tRecall:        73.46%\n",
      "\tF1-score:       9.53%\n",
      "Classification report:\n",
      "\tTrue positives: 12623\n",
      "\tFalse positives: 235069\n",
      "\tTrue negatives: 598235\n",
      "\tFalse negatives: 4561\n",
      "\tTotal comparisons: 247692\n",
      "---\n"
     ]
    }
   ],
   "source": [
    "Evaluation(data).report(filtered_blocks)"
   ]
  },
  {
   "cell_type": "markdown",
   "id": "9cd12048-bd0c-4571-ba70-488d46afcdd6",
   "metadata": {},
   "source": [
    "### Comparison Cleaning - Meta Blocking"
   ]
  },
  {
   "cell_type": "code",
   "execution_count": 15,
   "id": "7248d75f-215f-4efd-97f4-a2c9b969b9fc",
   "metadata": {},
   "outputs": [],
   "source": [
    "from pyjedai.block_cleaning import BlockPurging"
   ]
  },
  {
   "cell_type": "code",
   "execution_count": 16,
   "id": "a16bf7a0-180a-494b-8a0b-6a94d9c60deb",
   "metadata": {},
   "outputs": [
    {
     "data": {
      "application/vnd.jupyter.widget-view+json": {
       "model_id": "875fd48646624add92d47bb7e2d4049f",
       "version_major": 2,
       "version_minor": 0
      },
      "text/plain": [
       "Block Purging:   0%|          | 0/3420 [00:00<?, ?it/s]"
      ]
     },
     "metadata": {},
     "output_type": "display_data"
    }
   ],
   "source": [
    "cleaned_blocks = BlockPurging(\n",
    "    smoothing_factor=0.008\n",
    ").process(blocks, data)"
   ]
  },
  {
   "cell_type": "code",
   "execution_count": 17,
   "id": "8d408a88-9386-4d40-80f5-6b089bc6ad4b",
   "metadata": {},
   "outputs": [
    {
     "name": "stdout",
     "output_type": "stream",
     "text": [
      "#  Evaluation \n",
      "---\n",
      "Scores:\n",
      "\tPrecision:      7.67% \n",
      "\tRecall:         0.59%\n",
      "\tF1-score:       1.09%\n",
      "Classification report:\n",
      "\tTrue positives: 101\n",
      "\tFalse positives: 1215\n",
      "\tTrue negatives: 819567\n",
      "\tFalse negatives: 17083\n",
      "\tTotal comparisons: 1316\n",
      "---\n"
     ]
    }
   ],
   "source": [
    "Evaluation(data).report(cleaned_blocks)"
   ]
  },
  {
   "cell_type": "code",
   "execution_count": 31,
   "id": "1f7d75f3-6bed-482d-a572-c3b4927236a5",
   "metadata": {},
   "outputs": [],
   "source": [
    "from pyjedai.comparison_cleaning import (\n",
    "    WeightedEdgePruning,\n",
    "    WeightedNodePruning,\n",
    "    CardinalityEdgePruning,\n",
    "    CardinalityNodePruning,\n",
    "    BLAST,\n",
    "    ReciprocalCardinalityNodePruning,\n",
    "    # ReciprocalCardinalityWeightPruning,\n",
    "    ComparisonPropagation\n",
    ")"
   ]
  },
  {
   "cell_type": "code",
   "execution_count": 32,
   "id": "c92e0ca3-5591-4620-b3f4-012a23637416",
   "metadata": {},
   "outputs": [
    {
     "data": {
      "application/vnd.jupyter.widget-view+json": {
       "model_id": "fed30985d11648a88079d74c1f1836be",
       "version_major": 2,
       "version_minor": 0
      },
      "text/plain": [
       "Weighted Edge Pruning:   0%|          | 0/1295 [00:00<?, ?it/s]"
      ]
     },
     "metadata": {},
     "output_type": "display_data"
    }
   ],
   "source": [
    "candidate_pairs_blocks = WeightedEdgePruning(\n",
    "    weighting_scheme='CBS'\n",
    ").process(filtered_blocks, data)"
   ]
  },
  {
   "cell_type": "code",
   "execution_count": 33,
   "id": "f469e387-e135-4945-b97f-da14d391c6b1",
   "metadata": {},
   "outputs": [
    {
     "name": "stdout",
     "output_type": "stream",
     "text": [
      "#  Evaluation \n",
      "---\n",
      "Scores:\n",
      "\tPrecision:     74.46% \n",
      "\tRecall:        48.51%\n",
      "\tF1-score:      58.75%\n",
      "Classification report:\n",
      "\tTrue positives: 8336\n",
      "\tFalse positives: 2860\n",
      "\tTrue negatives: 826157\n",
      "\tFalse negatives: 8848\n",
      "\tTotal comparisons: 11196\n",
      "---\n"
     ]
    }
   ],
   "source": [
    "Evaluation(data).report(candidate_pairs_blocks)"
   ]
  },
  {
   "cell_type": "markdown",
   "id": "6aeff39a-b51b-4166-a55b-f8452ec258a7",
   "metadata": {},
   "source": [
    "### Entity Matching"
   ]
  },
  {
   "cell_type": "code",
   "execution_count": 22,
   "id": "f479d967-8bac-4870-99bd-68c01e75747b",
   "metadata": {},
   "outputs": [],
   "source": [
    "from pyjedai.matching import EntityMatching"
   ]
  },
  {
   "cell_type": "code",
   "execution_count": 24,
   "id": "ae7b1e6a-e937-44fe-bfe5-34696ea1156c",
   "metadata": {},
   "outputs": [
    {
     "data": {
      "application/vnd.jupyter.widget-view+json": {
       "model_id": "b2110007683b4c8a84a0bce5af38259e",
       "version_major": 2,
       "version_minor": 0
      },
      "text/plain": [
       "Entity Matching (jaccard):   0%|          | 0/1684 [00:00<?, ?it/s]"
      ]
     },
     "metadata": {},
     "output_type": "display_data"
    }
   ],
   "source": [
    "attr = ['author', 'title']\n",
    "# or with weights\n",
    "attr = {\n",
    "    'author' : 0.6,\n",
    "    'title' : 0.4\n",
    "}\n",
    "\n",
    "EM = EntityMatching(\n",
    "    metric='jaccard', \n",
    "    similarity_threshold=0.5\n",
    ")\n",
    "\n",
    "pairs_graph = EM.predict(filtered_blocks, data)"
   ]
  },
  {
   "cell_type": "code",
   "execution_count": 34,
   "id": "bcb37bf3-1da1-4830-9659-41cf85a536a9",
   "metadata": {},
   "outputs": [
    {
     "data": {
      "application/vnd.jupyter.widget-view+json": {
       "model_id": "44930d8c639944bbaad1cc9a50b66999",
       "version_major": 2,
       "version_minor": 0
      },
      "text/plain": [
       "Entity Matching (jaccard):   0%|          | 0/1294 [00:00<?, ?it/s]"
      ]
     },
     "metadata": {},
     "output_type": "display_data"
    }
   ],
   "source": [
    "attr = {\n",
    "    'author' : 0.6, \n",
    "    'title' : 0.4\n",
    "}\n",
    "\n",
    "EM = EntityMatching(\n",
    "    metric='jaccard',\n",
    "    similarity_threshold=0.5\n",
    ")\n",
    "\n",
    "pairs_graph = EM.predict(candidate_pairs_blocks, data)"
   ]
  },
  {
   "cell_type": "code",
   "execution_count": 25,
   "id": "4d606bfc-3265-4042-93f3-22a1117c4886",
   "metadata": {},
   "outputs": [
    {
     "data": {
      "image/png": "[encoded data removed]",
      "text/plain": [
       "<Figure size 432x288 with 1 Axes>"
      ]
     },
     "metadata": {},
     "output_type": "display_data"
    }
   ],
   "source": [
    "draw(pairs_graph)"
   ]
  },
  {
   "cell_type": "code",
   "execution_count": 26,
   "id": "00bc2e82-9bc1-4119-b8cb-4a1c18afee19",
   "metadata": {},
   "outputs": [
    {
     "name": "stdout",
     "output_type": "stream",
     "text": [
      "#  Evaluation \n",
      "---\n",
      "Scores:\n",
      "\tPrecision:      5.44% \n",
      "\tRecall:         6.30%\n",
      "\tF1-score:       5.84%\n",
      "Classification report:\n",
      "\tTrue positives: 1083\n",
      "\tFalse positives: 18819\n",
      "\tTrue negatives: 802945\n",
      "\tFalse negatives: 16101\n",
      "\tTotal comparisons: 19902\n",
      "---\n"
     ]
    }
   ],
   "source": [
    "e = Evaluation(data)\n",
    "e.report(pairs_graph)"
   ]
  },
  {
   "cell_type": "markdown",
   "id": "93b72120-4578-4d5c-a408-a24ee78bf6cb",
   "metadata": {},
   "source": [
    "### Entity Clustering"
   ]
  },
  {
   "cell_type": "code",
   "execution_count": 27,
   "id": "500d2ef7-7017-4dba-bbea-acdba8abf5b7",
   "metadata": {},
   "outputs": [],
   "source": [
    "from pyjedai.clustering import ConnectedComponentsClustering"
   ]
  },
  {
   "cell_type": "code",
   "execution_count": 28,
   "id": "aebd9329-3a4b-48c9-bd05-c7bd4aed3ca9",
   "metadata": {},
   "outputs": [],
   "source": [
    "clusters = ConnectedComponentsClustering().process(pairs_graph)"
   ]
  },
  {
   "cell_type": "code",
   "execution_count": 29,
   "id": "3d2aa574",
   "metadata": {},
   "outputs": [
    {
     "name": "stdout",
     "output_type": "stream",
     "text": [
      "#  Evaluation \n",
      "---\n",
      "Scores:\n",
      "\tPrecision:      5.44% \n",
      "\tRecall:         6.30%\n",
      "\tF1-score:       5.84%\n",
      "Classification report:\n",
      "\tTrue positives: 1083\n",
      "\tFalse positives: 18819\n",
      "\tTrue negatives: 802945\n",
      "\tFalse negatives: 16101\n",
      "\tTotal comparisons: 19902\n",
      "---\n"
     ]
    }
   ],
   "source": [
    "e = Evaluation(data)\n",
    "e.report(pairs_graph)"
   ]
  },
  {
   "cell_type": "code",
   "execution_count": 30,
   "id": "5458eec5-e074-4e8e-bac7-1fc7bc3e9e27",
   "metadata": {},
   "outputs": [
    {
     "data": {
      "image/png": "[encoded data removed]",
      "text/plain": [
       "<Figure size 432x288 with 2 Axes>"
      ]
     },
     "metadata": {
      "needs_background": "light"
     },
     "output_type": "display_data"
    }
   ],
   "source": [
    "e.confusion_matrix()"
   ]
  },
  {
   "cell_type": "markdown",
   "id": "6e44642b-b0d9-4f8d-9fe4-4fca2ad716aa",
   "metadata": {},
   "source": [
    "# Workflow with Similarity Joins\n",
    "\n",
    "In this notebook we created the bellow archtecture:\n",
    "\n",
    "![workflow2-cora.png](https://github.com/Nikoletos-K/pyJedAI/blob/main/documentation/workflow2-cora.png?raw=true)\n",
    "\n"
   ]
  },
  {
   "cell_type": "markdown",
   "id": "2b07ea13-58cb-498a-949a-4702ea9ee4ce",
   "metadata": {
    "tags": []
   },
   "source": [
    "### Data Reading"
   ]
  },
  {
   "cell_type": "markdown",
   "id": "a0b7acf5-32b3-45b1-8347-197dfa869fb9",
   "metadata": {},
   "source": [
    "Data is the connecting module of all steps of the workflow"
   ]
  },
  {
   "cell_type": "code",
   "execution_count": 35,
   "id": "3006b051-8348-4922-a627-56441a1db7b7",
   "metadata": {
    "tags": []
   },
   "outputs": [],
   "source": [
    "from pyjedai.datamodel import Data\n",
    "d1 = pd.read_csv(\"./../data/cora/cora.csv\", sep='|')\n",
    "gt = pd.read_csv(\"./../data/cora/cora_gt.csv\", sep='|', header=None)\n",
    "attr = ['Entity Id','author', 'title']\n",
    "data = Data(\n",
    "    dataset_1=d1,\n",
    "    id_column_name_1='Entity Id',\n",
    "    ground_truth=gt,\n",
    "    attributes_1=attr\n",
    ")\n",
    "\n",
    "data.process()"
   ]
  },
  {
   "cell_type": "markdown",
   "id": "b3eedb4c-b86f-4f98-abf2-9d6f7d0271c5",
   "metadata": {},
   "source": [
    "### Similarity Joins"
   ]
  },
  {
   "cell_type": "code",
   "execution_count": 36,
   "id": "afd97b7e-4bf8-4256-b9fc-a301e413e834",
   "metadata": {},
   "outputs": [],
   "source": [
    "from pyjedai.joins import SchemaAgnosticΕJoin, TopKSchemaAgnosticJoin"
   ]
  },
  {
   "cell_type": "code",
   "execution_count": 37,
   "id": "7bc8ba43-b059-4839-8958-0b31fab95e46",
   "metadata": {},
   "outputs": [
    {
     "data": {
      "application/vnd.jupyter.widget-view+json": {
       "model_id": "9cc0a02c8ed84345aace8e2f89c59f72",
       "version_major": 2,
       "version_minor": 0
      },
      "text/plain": [
       "Schema Agnostic Join (jaccard):   0%|          | 0/2590 [00:00<?, ?it/s]"
      ]
     },
     "metadata": {},
     "output_type": "display_data"
    }
   ],
   "source": [
    "g = SchemaAgnosticΕJoin(\n",
    "    threshold = 0.5,\n",
    "    metric = 'jaccard',\n",
    "    tokenization = 'qgrams_multiset',\n",
    "    qgrams = 2\n",
    ").fit(data)"
   ]
  },
  {
   "cell_type": "code",
   "execution_count": 38,
   "id": "8fe34c67-4679-4279-8e7e-35437783ecf3",
   "metadata": {},
   "outputs": [
    {
     "name": "stdout",
     "output_type": "stream",
     "text": [
      "#  Evaluation \n",
      "---\n",
      "Scores:\n",
      "\tPrecision:     65.80% \n",
      "\tRecall:        93.03%\n",
      "\tF1-score:      77.08%\n",
      "Classification report:\n",
      "\tTrue positives: 15987\n",
      "\tFalse positives: 8311\n",
      "\tTrue negatives: 828357\n",
      "\tFalse negatives: 1197\n",
      "\tTotal comparisons: 24298\n",
      "---\n"
     ]
    }
   ],
   "source": [
    "e = Evaluation(data)\n",
    "e.report(g)"
   ]
  },
  {
   "cell_type": "code",
   "execution_count": 39,
   "id": "27c7bc36-c39b-4bab-a728-971195763728",
   "metadata": {
    "tags": []
   },
   "outputs": [
    {
     "data": {
      "application/vnd.jupyter.widget-view+json": {
       "model_id": "677d6aa6481c45688f207f3ac4a7d723",
       "version_major": 2,
       "version_minor": 0
      },
      "text/plain": [
       "Top-K Schema Agnostic Join (jaccard):   0%|          | 0/2590 [00:00<?, ?it/s]"
      ]
     },
     "metadata": {},
     "output_type": "display_data"
    }
   ],
   "source": [
    "g = TopKSchemaAgnosticJoin(\n",
    "    K=20,\n",
    "    metric = 'jaccard',\n",
    "    tokenization = 'qgrams',\n",
    "    qgrams = 3\n",
    ").fit(data)"
   ]
  },
  {
   "cell_type": "code",
   "execution_count": 40,
   "id": "e1061a7a-9ccb-41ec-8bdf-42412d4d249c",
   "metadata": {},
   "outputs": [
    {
     "data": {
      "image/png": "[encoded data removed]",
      "text/plain": [
       "<Figure size 432x288 with 1 Axes>"
      ]
     },
     "metadata": {},
     "output_type": "display_data"
    }
   ],
   "source": [
    "draw(g)"
   ]
  },
  {
   "cell_type": "code",
   "execution_count": 41,
   "id": "a4c57244-0c98-4598-8ae2-06cdd0c48385",
   "metadata": {},
   "outputs": [
    {
     "name": "stdout",
     "output_type": "stream",
     "text": [
      "#  Evaluation \n",
      "---\n",
      "Scores:\n",
      "\tPrecision:     58.34% \n",
      "\tRecall:        63.75%\n",
      "\tF1-score:      60.92%\n",
      "Classification report:\n",
      "\tTrue positives: 10954\n",
      "\tFalse positives: 7822\n",
      "\tTrue negatives: 823813\n",
      "\tFalse negatives: 6230\n",
      "\tTotal comparisons: 18776\n",
      "---\n"
     ]
    }
   ],
   "source": [
    "e = Evaluation(data)\n",
    "e.report(g)"
   ]
  },
  {
   "cell_type": "markdown",
   "id": "e686ba55-cbbe-4133-8256-fa5339e70720",
   "metadata": {},
   "source": [
    "### Entity Clustering"
   ]
  },
  {
   "cell_type": "code",
   "execution_count": 42,
   "id": "e48627ef-0be6-45dd-b3ba-863818eadbfb",
   "metadata": {},
   "outputs": [],
   "source": [
    "from pyjedai.clustering import ConnectedComponentsClustering"
   ]
  },
  {
   "cell_type": "code",
   "execution_count": 43,
   "id": "a9d5a28d-79f0-479f-b154-f5f7e3661897",
   "metadata": {},
   "outputs": [],
   "source": [
    "clusters = ConnectedComponentsClustering().process(g)"
   ]
  },
  {
   "cell_type": "code",
   "execution_count": 44,
   "id": "f95539fe-2569-4569-8929-2f4220f14157",
   "metadata": {},
   "outputs": [
    {
     "name": "stdout",
     "output_type": "stream",
     "text": [
      "#  Evaluation \n",
      "---\n",
      "Scores:\n",
      "\tPrecision:      2.05% \n",
      "\tRecall:       100.00%\n",
      "\tF1-score:       4.02%\n",
      "Classification report:\n",
      "\tTrue positives: 17184\n",
      "\tFalse positives: 820681\n",
      "\tTrue negatives: 17184\n",
      "\tFalse negatives: 0\n",
      "\tTotal comparisons: 837865\n",
      "---\n"
     ]
    }
   ],
   "source": [
    "e = Evaluation(data)\n",
    "e.report(clusters)"
   ]
  },
  {
   "cell_type": "code",
   "execution_count": 45,
   "id": "336e161f-911f-4d75-ab13-f38ed893fd7a",
   "metadata": {},
   "outputs": [
    {
     "data": {
      "image/png": "[encoded data removed]",
      "text/plain": [
       "<Figure size 432x288 with 2 Axes>"
      ]
     },
     "metadata": {
      "needs_background": "light"
     },
     "output_type": "display_data"
    }
   ],
   "source": [
    "e.confusion_matrix()"
   ]
  },
  {
   "cell_type": "markdown",
   "id": "778b9b19-0964-4095-a293-a8336fe0607a",
   "metadata": {},
   "source": [
    "<hr>\n",
    "<div align=\"right\">\n",
    "K. Nikoletos, G. Papadakis & M. Koubarakis\n",
    "</div>\n",
    "<div align=\"right\">\n",
    "<a href=\"https://github.com/Nikoletos-K/pyJedAI/blob/main/LICENSE\">Apache License 2.0</a>\n",
    "</div>"
   ]
  }
 ],
 "metadata": {
  "kernelspec": {
   "display_name": "Python 3",
   "language": "python",
   "name": "python3"
  },
  "language_info": {
   "codemirror_mode": {
    "name": "ipython",
    "version": 3
   },
   "file_extension": ".py",
   "mimetype": "text/x-python",
   "name": "python",
   "nbconvert_exporter": "python",
   "pygments_lexer": "ipython3",
   "version": "3.10.5"
  }
 },
 "nbformat": 4,
 "nbformat_minor": 5
}
