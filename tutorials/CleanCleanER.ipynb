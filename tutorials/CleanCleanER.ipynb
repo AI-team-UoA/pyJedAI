{
 "cells": [
  {
   "cell_type": "markdown",
   "id": "96ec678e-b20c-4213-8616-542010f46342",
   "metadata": {},
   "source": [
    "<div align=\"center\"> \n",
    "    <br><br>\n",
    "    <img src=\"https://raw.githubusercontent.com/AI-team-UoA/pyJedAI/main/documentation/pyjedai.logo.drawio.png?raw=true\" alt=\"drawing\" width=\"400\"/>\n",
    "    <br>\n",
    "    <hr>\n",
    "    <font size=\"3\">Clean-Clean Entity Resolution Tutorial</font>\n",
    "    <br>\n",
    "</div>\n",
    "<hr>\n",
    "\n",
    "\n",
    "In this notebook we present the pyJedAI approach in the well-known ABT-BUY dataset. Clean-Clean ER in the link discovery/deduplication between two sets of entities."
   ]
  },
  {
   "cell_type": "markdown",
   "id": "9c49d2b7-11b5-40b3-9341-de98608dde13",
   "metadata": {},
   "source": [
    "Dataset: __Abt-Buy dataset__\n",
    "\n",
    "The Abt-Buy dataset for entity resolution derives from the online retailers Abt.com and Buy.com. The dataset contains 1076 entities from abt.com and 1076 entities from buy.com as well as a gold standard (perfect mapping) with 1076 matching record pairs between the two data sources. The common attributes between the two data sources are: product name, product description and product price."
   ]
  },
  {
   "cell_type": "markdown",
   "id": "744b3017-9a5c-4d3c-8e0a-fe39b069b647",
   "metadata": {},
   "source": [
    "# Instalation\n",
    "\n",
    "pyJedAI is an open-source library that can be installed from PyPI.\n",
    "\n",
    "For more: [pypi.org/project/pyjedai/](https://pypi.org/project/pyjedai/)"
   ]
  },
  {
   "cell_type": "code",
   "execution_count": null,
   "id": "029a5825-799d-4c3f-a6cd-a75e257cadcc",
   "metadata": {},
   "outputs": [],
   "source": [
    "!pip install pyjedai -U"
   ]
  },
  {
   "cell_type": "code",
   "execution_count": 1,
   "id": "462695ec-3af1-4048-9971-9ed0bce0f07b",
   "metadata": {},
   "outputs": [
    {
     "name": "stdout",
     "output_type": "stream",
     "text": [
      "Name: pyjedai\n",
      "Version: 0.0.3\n",
      "Summary: An open-source library that builds powerful end-to-end Entity Resolution workflows.\n",
      "Home-page: \n",
      "Author: \n",
      "Author-email: Konstantinos Nikoletos <nikoletos.kon@gmail.com>, George Papadakis <gpapadis84@gmail.com>\n",
      "License: Apache Software License 2.0\n",
      "Location: c:\\users\\nikol\\appdata\\local\\programs\\python\\python310\\lib\\site-packages\n",
      "Requires: faiss-cpu, gensim, matplotlib, matplotlib-inline, networkx, nltk, numpy, optuna, pandas, pandas-profiling, pandocfilters, PyYAML, rdflib, rdfpandas, regex, scipy, seaborn, sentence-transformers, strsim, strsimpy, tomli, tqdm, transformers\n",
      "Required-by: \n"
     ]
    }
   ],
   "source": [
    "!pip show pyjedai"
   ]
  },
  {
   "cell_type": "markdown",
   "id": "7b4c62c5-6581-4d2e-9d44-c7c02f43d441",
   "metadata": {},
   "source": [
    "Imports"
   ]
  },
  {
   "cell_type": "code",
   "execution_count": 2,
   "id": "6db50d83-51d8-4c95-9f27-30ef867338f2",
   "metadata": {},
   "outputs": [],
   "source": [
    "import os\n",
    "import sys\n",
    "import pandas as pd\n",
    "import networkx\n",
    "from networkx import draw, Graph"
   ]
  },
  {
   "cell_type": "code",
   "execution_count": 3,
   "id": "4d4e6a90-9fd8-4f7a-bf4f-a5b994e0adfb",
   "metadata": {},
   "outputs": [],
   "source": [
    "from pyjedai.utils import (\n",
    "    text_cleaning_method,\n",
    "    print_clusters,\n",
    "    print_blocks,\n",
    "    print_candidate_pairs\n",
    ")\n",
    "from pyjedai.evaluation import Evaluation, write"
   ]
  },
  {
   "cell_type": "markdown",
   "id": "451bf970-4425-487b-8756-776abb9536ea",
   "metadata": {},
   "source": [
    "# Workflow Architecture\n",
    "\n",
    "![workflow-example.png](https://github.com/AI-team-UoA/pyJedAI/blob/main/documentation/workflow-example.png?raw=true)"
   ]
  },
  {
   "cell_type": "markdown",
   "id": "af77914f-5e76-4da8-a0ad-1c53e0111a0f",
   "metadata": {},
   "source": [
    "# Data Reading\n",
    "\n",
    "pyJedAI in order to perfrom needs only the tranformation of the initial data into a pandas DataFrame. Hence, pyJedAI can function in every structured or semi-structured data. In this case Abt-Buy dataset is provided as .csv files. \n"
   ]
  },
  {
   "cell_type": "code",
   "execution_count": 4,
   "id": "e6aabec4-ef4f-4267-8c1e-377054e669d2",
   "metadata": {},
   "outputs": [],
   "source": [
    "from pyjedai.datamodel import Data"
   ]
  },
  {
   "cell_type": "code",
   "execution_count": 5,
   "id": "3d3feb89-1406-4c90-a1aa-dc2cf4707739",
   "metadata": {},
   "outputs": [],
   "source": [
    "d1 = pd.read_csv(\"./../data/D2/abt.csv\", sep='|', engine='python', na_filter=False).astype(str)\n",
    "d2 = pd.read_csv(\"./../data/D2/buy.csv\", sep='|', engine='python', na_filter=False).astype(str)\n",
    "gt = pd.read_csv(\"./../data/D2/gt.csv\", sep='|', engine='python')\n",
    "\n",
    "data = Data(\n",
    "    dataset_1=d1,\n",
    "    attributes_1=['id','name','description'],\n",
    "    id_column_name_1='id',\n",
    "    dataset_2=d2,\n",
    "    attributes_2=['id','name','description'],\n",
    "    id_column_name_2='id',\n",
    "    ground_truth=gt,\n",
    ")\n",
    "\n",
    "data.process()"
   ]
  },
  {
   "cell_type": "markdown",
   "id": "5d8a8a78-858e-4c79-90fe-197a68e95e11",
   "metadata": {},
   "source": [
    "pyJedAI offers also dataset analysis methods (more will be developed)"
   ]
  },
  {
   "cell_type": "code",
   "execution_count": 6,
   "id": "7cb87af2-adda-49e0-82cc-b1a5f7a595ef",
   "metadata": {},
   "outputs": [
    {
     "name": "stdout",
     "output_type": "stream",
     "text": [
      "Type of Entity Resolution:  Clean-Clean\n",
      "Number of entities in D1:  1076\n",
      "Attributes provided  for D1:  ['id', 'name', 'description']\n",
      "\n",
      "Number of entities in D2:  1076\n",
      "Attributes provided  for D2:  ['id', 'name', 'description']\n",
      "\n",
      "Total number of entities:  2152\n",
      "Number of matching pairs in ground-truth:  1076\n"
     ]
    }
   ],
   "source": [
    "data.print_specs()"
   ]
  },
  {
   "cell_type": "code",
   "execution_count": 7,
   "id": "b822d7c0-19a2-4050-9554-c35a208bb848",
   "metadata": {},
   "outputs": [
    {
     "data": {
      "text/html": [
       "<div>\n",
       "<style scoped>\n",
       "    .dataframe tbody tr th:only-of-type {\n",
       "        vertical-align: middle;\n",
       "    }\n",
       "\n",
       "    .dataframe tbody tr th {\n",
       "        vertical-align: top;\n",
       "    }\n",
       "\n",
       "    .dataframe thead th {\n",
       "        text-align: right;\n",
       "    }\n",
       "</style>\n",
       "<table border=\"1\" class=\"dataframe\">\n",
       "  <thead>\n",
       "    <tr style=\"text-align: right;\">\n",
       "      <th></th>\n",
       "      <th>id</th>\n",
       "      <th>name</th>\n",
       "      <th>description</th>\n",
       "      <th>price</th>\n",
       "    </tr>\n",
       "  </thead>\n",
       "  <tbody>\n",
       "    <tr>\n",
       "      <th>0</th>\n",
       "      <td>0</td>\n",
       "      <td>Sony Turntable - PSLX350H</td>\n",
       "      <td>Sony Turntable - PSLX350H/ Belt Drive System/ ...</td>\n",
       "      <td></td>\n",
       "    </tr>\n",
       "    <tr>\n",
       "      <th>1</th>\n",
       "      <td>1</td>\n",
       "      <td>Bose Acoustimass 5 Series III Speaker System -...</td>\n",
       "      <td>Bose Acoustimass 5 Series III Speaker System -...</td>\n",
       "      <td>399</td>\n",
       "    </tr>\n",
       "    <tr>\n",
       "      <th>2</th>\n",
       "      <td>2</td>\n",
       "      <td>Sony Switcher - SBV40S</td>\n",
       "      <td>Sony Switcher - SBV40S/ Eliminates Disconnecti...</td>\n",
       "      <td>49</td>\n",
       "    </tr>\n",
       "    <tr>\n",
       "      <th>3</th>\n",
       "      <td>3</td>\n",
       "      <td>Sony 5 Disc CD Player - CDPCE375</td>\n",
       "      <td>Sony 5 Disc CD Player- CDPCE375/ 5 Disc Change...</td>\n",
       "      <td></td>\n",
       "    </tr>\n",
       "    <tr>\n",
       "      <th>4</th>\n",
       "      <td>4</td>\n",
       "      <td>Bose 27028 161 Bookshelf Pair Speakers In Whit...</td>\n",
       "      <td>Bose 161 Bookshelf Speakers In White - 161WH/ ...</td>\n",
       "      <td>158</td>\n",
       "    </tr>\n",
       "  </tbody>\n",
       "</table>\n",
       "</div>"
      ],
      "text/plain": [
       "  id                                               name  \\\n",
       "0  0                          Sony Turntable - PSLX350H   \n",
       "1  1  Bose Acoustimass 5 Series III Speaker System -...   \n",
       "2  2                             Sony Switcher - SBV40S   \n",
       "3  3                   Sony 5 Disc CD Player - CDPCE375   \n",
       "4  4  Bose 27028 161 Bookshelf Pair Speakers In Whit...   \n",
       "\n",
       "                                         description price  \n",
       "0  Sony Turntable - PSLX350H/ Belt Drive System/ ...        \n",
       "1  Bose Acoustimass 5 Series III Speaker System -...   399  \n",
       "2  Sony Switcher - SBV40S/ Eliminates Disconnecti...    49  \n",
       "3  Sony 5 Disc CD Player- CDPCE375/ 5 Disc Change...        \n",
       "4  Bose 161 Bookshelf Speakers In White - 161WH/ ...   158  "
      ]
     },
     "execution_count": 7,
     "metadata": {},
     "output_type": "execute_result"
    }
   ],
   "source": [
    "data.dataset_1.head(5)"
   ]
  },
  {
   "cell_type": "code",
   "execution_count": 8,
   "id": "5c26b595-5e02-4bfc-8e79-e476ab2830ef",
   "metadata": {},
   "outputs": [
    {
     "data": {
      "text/html": [
       "<div>\n",
       "<style scoped>\n",
       "    .dataframe tbody tr th:only-of-type {\n",
       "        vertical-align: middle;\n",
       "    }\n",
       "\n",
       "    .dataframe tbody tr th {\n",
       "        vertical-align: top;\n",
       "    }\n",
       "\n",
       "    .dataframe thead th {\n",
       "        text-align: right;\n",
       "    }\n",
       "</style>\n",
       "<table border=\"1\" class=\"dataframe\">\n",
       "  <thead>\n",
       "    <tr style=\"text-align: right;\">\n",
       "      <th></th>\n",
       "      <th>id</th>\n",
       "      <th>name</th>\n",
       "      <th>description</th>\n",
       "      <th>price</th>\n",
       "    </tr>\n",
       "  </thead>\n",
       "  <tbody>\n",
       "    <tr>\n",
       "      <th>0</th>\n",
       "      <td>0</td>\n",
       "      <td>Linksys EtherFast EZXS88W Ethernet Switch - EZ...</td>\n",
       "      <td>Linksys EtherFast 8-Port 10/100 Switch (New/Wo...</td>\n",
       "      <td></td>\n",
       "    </tr>\n",
       "    <tr>\n",
       "      <th>1</th>\n",
       "      <td>1</td>\n",
       "      <td>Linksys EtherFast EZXS55W Ethernet Switch</td>\n",
       "      <td>5 x 10/100Base-TX LAN</td>\n",
       "      <td></td>\n",
       "    </tr>\n",
       "    <tr>\n",
       "      <th>2</th>\n",
       "      <td>2</td>\n",
       "      <td>Netgear ProSafe FS105 Ethernet Switch - FS105NA</td>\n",
       "      <td>NETGEAR FS105 Prosafe 5 Port 10/100 Desktop Sw...</td>\n",
       "      <td></td>\n",
       "    </tr>\n",
       "    <tr>\n",
       "      <th>3</th>\n",
       "      <td>3</td>\n",
       "      <td>Belkin Pro Series High Integrity VGA/SVGA Moni...</td>\n",
       "      <td>1 x HD-15 - 1 x HD-15 - 10ft - Beige</td>\n",
       "      <td></td>\n",
       "    </tr>\n",
       "    <tr>\n",
       "      <th>4</th>\n",
       "      <td>4</td>\n",
       "      <td>Netgear ProSafe JFS516 Ethernet Switch</td>\n",
       "      <td>Netgear ProSafe 16 Port 10/100 Rackmount Switc...</td>\n",
       "      <td></td>\n",
       "    </tr>\n",
       "  </tbody>\n",
       "</table>\n",
       "</div>"
      ],
      "text/plain": [
       "  id                                               name  \\\n",
       "0  0  Linksys EtherFast EZXS88W Ethernet Switch - EZ...   \n",
       "1  1          Linksys EtherFast EZXS55W Ethernet Switch   \n",
       "2  2    Netgear ProSafe FS105 Ethernet Switch - FS105NA   \n",
       "3  3  Belkin Pro Series High Integrity VGA/SVGA Moni...   \n",
       "4  4             Netgear ProSafe JFS516 Ethernet Switch   \n",
       "\n",
       "                                         description price  \n",
       "0  Linksys EtherFast 8-Port 10/100 Switch (New/Wo...        \n",
       "1                              5 x 10/100Base-TX LAN        \n",
       "2  NETGEAR FS105 Prosafe 5 Port 10/100 Desktop Sw...        \n",
       "3               1 x HD-15 - 1 x HD-15 - 10ft - Beige        \n",
       "4  Netgear ProSafe 16 Port 10/100 Rackmount Switc...        "
      ]
     },
     "execution_count": 8,
     "metadata": {},
     "output_type": "execute_result"
    }
   ],
   "source": [
    "data.dataset_2.head(5)"
   ]
  },
  {
   "cell_type": "code",
   "execution_count": 9,
   "id": "b3c9827e-a08a-47b2-a7f2-6f3f72184a17",
   "metadata": {},
   "outputs": [
    {
     "data": {
      "text/html": [
       "<div>\n",
       "<style scoped>\n",
       "    .dataframe tbody tr th:only-of-type {\n",
       "        vertical-align: middle;\n",
       "    }\n",
       "\n",
       "    .dataframe tbody tr th {\n",
       "        vertical-align: top;\n",
       "    }\n",
       "\n",
       "    .dataframe thead th {\n",
       "        text-align: right;\n",
       "    }\n",
       "</style>\n",
       "<table border=\"1\" class=\"dataframe\">\n",
       "  <thead>\n",
       "    <tr style=\"text-align: right;\">\n",
       "      <th></th>\n",
       "      <th>D1</th>\n",
       "      <th>D2</th>\n",
       "    </tr>\n",
       "  </thead>\n",
       "  <tbody>\n",
       "    <tr>\n",
       "      <th>0</th>\n",
       "      <td>206</td>\n",
       "      <td>216</td>\n",
       "    </tr>\n",
       "    <tr>\n",
       "      <th>1</th>\n",
       "      <td>60</td>\n",
       "      <td>46</td>\n",
       "    </tr>\n",
       "    <tr>\n",
       "      <th>2</th>\n",
       "      <td>182</td>\n",
       "      <td>160</td>\n",
       "    </tr>\n",
       "  </tbody>\n",
       "</table>\n",
       "</div>"
      ],
      "text/plain": [
       "    D1   D2\n",
       "0  206  216\n",
       "1   60   46\n",
       "2  182  160"
      ]
     },
     "execution_count": 9,
     "metadata": {},
     "output_type": "execute_result"
    }
   ],
   "source": [
    "data.ground_truth.head(3)"
   ]
  },
  {
   "cell_type": "markdown",
   "id": "9c068252-4a69-405a-a320-c2875ec08ea5",
   "metadata": {},
   "source": [
    "# Block Building\n",
    "\n",
    "It clusters entities into overlapping blocks in a lazy manner that relies on unsupervised blocking keys: every token in an attribute value forms a key. Blocks are then extracted, possibly using a transformation, based on its equality or on its similarity with other keys.\n",
    "\n",
    "The following methods are currently supported:\n",
    "\n",
    "- Standard/Token Blocking\n",
    "- Sorted Neighborhood\n",
    "- Extended Sorted Neighborhood\n",
    "- Q-Grams Blocking\n",
    "- Extended Q-Grams Blocking\n",
    "- Suffix Arrays Blocking\n",
    "- Extended Suffix Arrays Blocking"
   ]
  },
  {
   "cell_type": "code",
   "execution_count": 10,
   "id": "9c1b6213-a218-40cf-bc72-801b77d28da9",
   "metadata": {},
   "outputs": [],
   "source": [
    "from pyjedai.block_building import (\n",
    "    StandardBlocking,\n",
    "    QGramsBlocking,\n",
    "    ExtendedQGramsBlocking,\n",
    "    SuffixArraysBlocking,\n",
    "    ExtendedSuffixArraysBlocking,\n",
    ")\n",
    "\n",
    "from pyjedai.vector_based_blocking import EmbeddingsNNBlockBuilding"
   ]
  },
  {
   "cell_type": "code",
   "execution_count": 11,
   "id": "9741f0c4-6250-455f-9c88-b8dc61ab7d4d",
   "metadata": {},
   "outputs": [
    {
     "data": {
      "application/vnd.jupyter.widget-view+json": {
       "model_id": "19750ba866d845f9b7046b969be38109",
       "version_major": 2,
       "version_minor": 0
      },
      "text/plain": [
       "Q-Grams Blocking:   0%|          | 0/2152 [00:00<?, ?it/s]"
      ]
     },
     "metadata": {},
     "output_type": "display_data"
    }
   ],
   "source": [
    "qgb = QGramsBlocking()\n",
    "blocks = qgb.build_blocks(data, attributes_1=['name'])"
   ]
  },
  {
   "cell_type": "code",
   "execution_count": 12,
   "id": "d2d9ae46-28fa-4438-87b7-ba901c75bd99",
   "metadata": {},
   "outputs": [
    {
     "name": "stdout",
     "output_type": "stream",
     "text": [
      "Method name: Q-Grams Blocking\n",
      "Method info: Creates one block for every q-gram that is extracted from any token in the attribute values of any entity. The q-gram must be shared by at least two entities.\n",
      "Parameters: \n",
      "\tQ-Gramms: 6\n",
      "Attributes from D1:\n",
      "\tname\n",
      "Attributes from D2:\n",
      "\tid, name, description, price\n",
      "Runtime: 0.2210 seconds\n"
     ]
    }
   ],
   "source": [
    "qgb.report()"
   ]
  },
  {
   "cell_type": "code",
   "execution_count": 13,
   "id": "b0ac846d-0f13-4b90-b4c8-688054ed7ffe",
   "metadata": {},
   "outputs": [
    {
     "name": "stdout",
     "output_type": "stream",
     "text": [
      "# Q-Grams Blocking Evaluation \n",
      "---\n",
      "Method name: Q-Grams Blocking\n",
      "Parameters: \n",
      "\tQ-Gramms: 6\n",
      "Runtime: 0.2210 seconds\n",
      "Scores:\n",
      "\tPrecision:      0.23% \n",
      "\tRecall:        99.91%\n",
      "\tF1-score:       0.45%\n",
      "Classification report:\n",
      "\tTrue positives: 1075\n",
      "\tFalse positives: 471355\n",
      "\tTrue negatives: 686420\n",
      "\tFalse negatives: 1\n",
      "\tTotal comparisons: 472430\n",
      "---\n"
     ]
    }
   ],
   "source": [
    "e = Evaluation(data)\n",
    "e.report(blocks, qgb.method_configuration())"
   ]
  },
  {
   "cell_type": "markdown",
   "id": "9f9e77d5-c906-431a-bdc7-68dc9c00cc31",
   "metadata": {
    "tags": []
   },
   "source": [
    "# Block Cleaning\n",
    "\n",
    "___Optional step___\n",
    "\n",
    "Its goal is to clean a set of overlapping blocks from unnecessary comparisons, which can be either redundant (i.e., repeated comparisons that have already been executed in a previously examined block) or superfluous (i.e., comparisons that involve non-matching entities). Its methods operate on the coarse level of individual blocks or entities."
   ]
  },
  {
   "cell_type": "code",
   "execution_count": 14,
   "id": "9c2c0e42-485a-444e-9161-975f30d21a02",
   "metadata": {},
   "outputs": [],
   "source": [
    "from pyjedai.block_cleaning import BlockFiltering"
   ]
  },
  {
   "cell_type": "code",
   "execution_count": 15,
   "id": "bf5c20ac-b16a-484d-82b0-61ecb9e7f3ea",
   "metadata": {},
   "outputs": [
    {
     "data": {
      "application/vnd.jupyter.widget-view+json": {
       "model_id": "5329619dacbc43f8a23a05acb7293375",
       "version_major": 2,
       "version_minor": 0
      },
      "text/plain": [
       "Block Filtering:   0%|          | 0/3 [00:00<?, ?it/s]"
      ]
     },
     "metadata": {},
     "output_type": "display_data"
    }
   ],
   "source": [
    "bf = BlockFiltering(ratio=0.8)\n",
    "filtered_blocks = bf.process(blocks, data, tqdm_disable=False)"
   ]
  },
  {
   "cell_type": "code",
   "execution_count": 16,
   "id": "25fd0be0-91c3-4d0b-b596-c66dccba3c79",
   "metadata": {},
   "outputs": [
    {
     "name": "stdout",
     "output_type": "stream",
     "text": [
      "# Block Filtering Evaluation \n",
      "---\n",
      "Method name: Block Filtering\n",
      "Parameters: \n",
      "\tRatio: 0.8\n",
      "Runtime: 0.0730 seconds\n",
      "Scores:\n",
      "\tPrecision:      0.77% \n",
      "\tRecall:        99.63%\n",
      "\tF1-score:       1.52%\n",
      "Classification report:\n",
      "\tTrue positives: 1072\n",
      "\tFalse positives: 138721\n",
      "\tTrue negatives: 1019051\n",
      "\tFalse negatives: 4\n",
      "\tTotal comparisons: 139793\n",
      "---\n"
     ]
    }
   ],
   "source": [
    "Evaluation(data).report(filtered_blocks, bf.method_configuration())"
   ]
  },
  {
   "cell_type": "markdown",
   "id": "9cd12048-bd0c-4571-ba70-488d46afcdd6",
   "metadata": {},
   "source": [
    "# Comparison Cleaning\n",
    "\n",
    "___Optional step___\n",
    "\n",
    "Similar to Block Cleaning, this step aims to clean a set of blocks from both redundant and superfluous comparisons. Unlike Block Cleaning, its methods operate on the finer granularity of individual comparisons.\n",
    "\n",
    "The following methods are currently supported:\n",
    "\n",
    "- Comparison Propagation\n",
    "- Cardinality Edge Pruning (CEP)\n",
    "- Cardinality Node Pruning (CNP)\n",
    "- Weighed Edge Pruning (WEP)\n",
    "- Weighed Node Pruning (WNP)\n",
    "- Reciprocal Cardinality Node Pruning (ReCNP)\n",
    "- Reciprocal Weighed Node Pruning (ReWNP)\n",
    "- BLAST\n",
    "\n",
    "Most of these methods are Meta-blocking techniques. All methods are optional, but competive, in the sense that only one of them can part of an ER workflow. For more details on the functionality of these methods, see here. They can be combined with one of the following weighting schemes:\n",
    "\n",
    "- Aggregate Reciprocal Comparisons Scheme (ARCS)\n",
    "- Common Blocks Scheme (CBS)\n",
    "- Enhanced Common Blocks Scheme (ECBS)\n",
    "- Jaccard Scheme (JS)\n",
    "- Enhanced Jaccard Scheme (EJS)"
   ]
  },
  {
   "cell_type": "code",
   "execution_count": 17,
   "id": "725426e2-0af8-4295-baff-92653c841fdd",
   "metadata": {},
   "outputs": [],
   "source": [
    "from pyjedai.block_cleaning import BlockPurging"
   ]
  },
  {
   "cell_type": "code",
   "execution_count": 18,
   "id": "7997b2b6-9629-44f0-a66d-5bc4fea28fb6",
   "metadata": {},
   "outputs": [
    {
     "data": {
      "application/vnd.jupyter.widget-view+json": {
       "model_id": "4e99825898fd40b9a645e131af7e70eb",
       "version_major": 2,
       "version_minor": 0
      },
      "text/plain": [
       "Block Purging:   0%|          | 0/6454 [00:00<?, ?it/s]"
      ]
     },
     "metadata": {},
     "output_type": "display_data"
    }
   ],
   "source": [
    "cbbp = BlockPurging()\n",
    "cleaned_blocks = cbbp.process(filtered_blocks, data, tqdm_disable=False)"
   ]
  },
  {
   "cell_type": "code",
   "execution_count": 19,
   "id": "d8842b00-8765-449f-bdb7-f9b2206e91c7",
   "metadata": {},
   "outputs": [
    {
     "name": "stdout",
     "output_type": "stream",
     "text": [
      "Method name: Block Purging\n",
      "Method info: Discards the blocks exceeding a certain number of comparisons.\n",
      "Parameters: \n",
      "\tSmoothing factor: 1.025\n",
      "\tMax Comparisons per Block: 3528.0\n",
      "Runtime: 0.0540 seconds\n"
     ]
    }
   ],
   "source": [
    "cbbp.report()"
   ]
  },
  {
   "cell_type": "code",
   "execution_count": 20,
   "id": "bfbef308-2ae0-4a2b-aec4-1bac09e426a1",
   "metadata": {},
   "outputs": [
    {
     "name": "stdout",
     "output_type": "stream",
     "text": [
      "# Block Purging Evaluation \n",
      "---\n",
      "Method name: Block Purging\n",
      "Parameters: \n",
      "\tSmoothing factor: 1.025\n",
      "\tMax Comparisons per Block: 3528.0\n",
      "Runtime: 0.0540 seconds\n",
      "Scores:\n",
      "\tPrecision:      0.80% \n",
      "\tRecall:        99.63%\n",
      "\tF1-score:       1.59%\n",
      "Classification report:\n",
      "\tTrue positives: 1072\n",
      "\tFalse positives: 133001\n",
      "\tTrue negatives: 1024771\n",
      "\tFalse negatives: 4\n",
      "\tTotal comparisons: 134073\n",
      "---\n"
     ]
    }
   ],
   "source": [
    "e = Evaluation(data)\n",
    "e.report(cleaned_blocks, cbbp.method_configuration())"
   ]
  },
  {
   "cell_type": "markdown",
   "id": "4920ae72-7ad6-42aa-932b-aaae20ace85a",
   "metadata": {},
   "source": [
    "## Meta Blocking"
   ]
  },
  {
   "cell_type": "code",
   "execution_count": 21,
   "id": "1f7d75f3-6bed-482d-a572-c3b4927236a5",
   "metadata": {},
   "outputs": [],
   "source": [
    "from pyjedai.comparison_cleaning import (\n",
    "    WeightedEdgePruning,\n",
    "    WeightedNodePruning,\n",
    "    CardinalityEdgePruning,\n",
    "    CardinalityNodePruning,\n",
    "    BLAST,\n",
    "    ReciprocalCardinalityNodePruning,\n",
    "    ReciprocalWeightedNodePruning,\n",
    "    ComparisonPropagation\n",
    ")"
   ]
  },
  {
   "cell_type": "code",
   "execution_count": 22,
   "id": "c92e0ca3-5591-4620-b3f4-012a23637416",
   "metadata": {},
   "outputs": [],
   "source": [
    "wep = CardinalityEdgePruning(weighting_scheme='X2')\n",
    "candidate_pairs_blocks = wep.process(filtered_blocks, data, tqdm_disable=True)"
   ]
  },
  {
   "cell_type": "code",
   "execution_count": 23,
   "id": "f469e387-e135-4945-b97f-da14d391c6b1",
   "metadata": {},
   "outputs": [
    {
     "name": "stdout",
     "output_type": "stream",
     "text": [
      "# Cardinality Edge Pruning Evaluation \n",
      "---\n",
      "Method name: Cardinality Edge Pruning\n",
      "Parameters: \n",
      "\tNode centric: False\n",
      "\tWeighting scheme: X2\n",
      "Runtime: 3.2131 seconds\n",
      "Scores:\n",
      "\tPrecision:      8.31% \n",
      "\tRecall:        95.35%\n",
      "\tF1-score:      15.28%\n",
      "Classification report:\n",
      "\tTrue positives: 1026\n",
      "\tFalse positives: 11326\n",
      "\tTrue negatives: 1146400\n",
      "\tFalse negatives: 50\n",
      "\tTotal comparisons: 12352\n",
      "---\n"
     ]
    }
   ],
   "source": [
    "Evaluation(data).report(candidate_pairs_blocks, wep.method_configuration())"
   ]
  },
  {
   "cell_type": "markdown",
   "id": "6aeff39a-b51b-4166-a55b-f8452ec258a7",
   "metadata": {},
   "source": [
    "# Entity Matching\n",
    "\n",
    "It compares pairs of entity profiles, associating every pair with a similarity in [0,1]. Its output comprises the similarity graph, i.e., an undirected, weighted graph where the nodes correspond to entities and the edges connect pairs of compared entities."
   ]
  },
  {
   "cell_type": "code",
   "execution_count": 24,
   "id": "f479d967-8bac-4870-99bd-68c01e75747b",
   "metadata": {},
   "outputs": [],
   "source": [
    "from pyjedai.matching import EntityMatching"
   ]
  },
  {
   "cell_type": "code",
   "execution_count": 25,
   "id": "ae7b1e6a-e937-44fe-bfe5-34696ea1156c",
   "metadata": {},
   "outputs": [],
   "source": [
    "EM = EntityMatching(\n",
    "    metric='sorensen_dice',\n",
    "    similarity_threshold=0.5,\n",
    "    attributes = ['description', 'name']\n",
    ")\n",
    "\n",
    "pairs_graph = EM.predict(candidate_pairs_blocks, data, tqdm_disable=True)"
   ]
  },
  {
   "cell_type": "code",
   "execution_count": 26,
   "id": "4d606bfc-3265-4042-93f3-22a1117c4886",
   "metadata": {},
   "outputs": [
    {
     "data": {
      "image/png": "[encoded data removed]",
      "text/plain": [
       "<Figure size 432x288 with 1 Axes>"
      ]
     },
     "metadata": {},
     "output_type": "display_data"
    }
   ],
   "source": [
    "draw(pairs_graph)"
   ]
  },
  {
   "cell_type": "code",
   "execution_count": 27,
   "id": "4a2a5f4a-6ffa-4c16-ae49-ff4fec4c467d",
   "metadata": {},
   "outputs": [
    {
     "name": "stdout",
     "output_type": "stream",
     "text": [
      "# Entity Matching Evaluation \n",
      "---\n",
      "Method name: Entity Matching\n",
      "Parameters: \n",
      "\tMetric: sorensen_dice\n",
      "\tEmbeddings: None\n",
      "\tAttributes: ['description', 'name']\n",
      "\tSimilarity threshold: 0.5\n",
      "Runtime: 7.6384 seconds\n",
      "Scores:\n",
      "\tPrecision:      2.78% \n",
      "\tRecall:        23.33%\n",
      "\tF1-score:       4.97%\n",
      "Classification report:\n",
      "\tTrue positives: 251\n",
      "\tFalse positives: 8764\n",
      "\tTrue negatives: 1148187\n",
      "\tFalse negatives: 825\n",
      "\tTotal comparisons: 9015\n",
      "---\n"
     ]
    }
   ],
   "source": [
    "Evaluation(data).report(pairs_graph, EM.method_configuration())"
   ]
  },
  {
   "cell_type": "markdown",
   "id": "93b72120-4578-4d5c-a408-a24ee78bf6cb",
   "metadata": {},
   "source": [
    "# Entity Clustering\n",
    "\n",
    "It takes as input the similarity graph produced by Entity Matching and partitions it into a set of equivalence clusters, with every cluster corresponding to a distinct real-world object."
   ]
  },
  {
   "cell_type": "code",
   "execution_count": 28,
   "id": "500d2ef7-7017-4dba-bbea-acdba8abf5b7",
   "metadata": {},
   "outputs": [],
   "source": [
    "from pyjedai.clustering import ConnectedComponentsClustering"
   ]
  },
  {
   "cell_type": "code",
   "execution_count": 29,
   "id": "aebd9329-3a4b-48c9-bd05-c7bd4aed3ca9",
   "metadata": {},
   "outputs": [],
   "source": [
    "ccc = ConnectedComponentsClustering()\n",
    "clusters = ccc.process(pairs_graph)"
   ]
  },
  {
   "cell_type": "code",
   "execution_count": 30,
   "id": "5b52a534-691a-48be-b5e9-c073dc04b154",
   "metadata": {},
   "outputs": [
    {
     "name": "stdout",
     "output_type": "stream",
     "text": [
      "Method name: Connected Components Clustering\n",
      "Method info: Gets equivalence clusters from the transitive closure of the similarity graph.\n",
      "Runtime: 0.0030 seconds\n"
     ]
    }
   ],
   "source": [
    "ccc.report()"
   ]
  },
  {
   "cell_type": "code",
   "execution_count": 31,
   "id": "00bc2e82-9bc1-4119-b8cb-4a1c18afee19",
   "metadata": {},
   "outputs": [
    {
     "name": "stdout",
     "output_type": "stream",
     "text": [
      "#  Evaluation \n",
      "---\n",
      "Scores:\n",
      "\tPrecision:      0.10% \n",
      "\tRecall:        88.66%\n",
      "\tF1-score:       0.20%\n",
      "Classification report:\n",
      "\tTrue positives: 954\n",
      "\tFalse positives: 970235\n",
      "\tTrue negatives: 187419\n",
      "\tFalse negatives: 122\n",
      "\tTotal comparisons: 971189\n",
      "---\n"
     ]
    }
   ],
   "source": [
    "Evaluation(data).report(clusters)"
   ]
  },
  {
   "cell_type": "code",
   "execution_count": 32,
   "id": "074019c0-4b30-4270-a0c2-680149e0a345",
   "metadata": {
    "tags": []
   },
   "outputs": [
    {
     "data": {
      "image/png": "[encoded data removed]",
      "text/plain": [
       "<Figure size 432x288 with 2 Axes>"
      ]
     },
     "metadata": {
      "needs_background": "light"
     },
     "output_type": "display_data"
    }
   ],
   "source": [
    "e.confusion_matrix()"
   ]
  },
  {
   "cell_type": "markdown",
   "id": "315369d8-6564-44d4-aea0-14034b54cf16",
   "metadata": {},
   "source": [
    "<hr>\n",
    "<div align=\"right\">\n",
    "K. Nikoletos, G. Papadakis & M. Koubarakis\n",
    "</div>\n",
    "<div align=\"right\">\n",
    "<a href=\"https://github.com/Nikoletos-K/pyJedAI/blob/main/LICENSE\">Apache License 2.0</a>\n",
    "</div>"
   ]
  }
 ],
 "metadata": {
  "kernelspec": {
   "display_name": "Python 3 (ipykernel)",
   "language": "python",
   "name": "python3"
  },
  "language_info": {
   "codemirror_mode": {
    "name": "ipython",
    "version": 3
   },
   "file_extension": ".py",
   "mimetype": "text/x-python",
   "name": "python",
   "nbconvert_exporter": "python",
   "pygments_lexer": "ipython3",
   "version": "3.10.5"
  }
 },
 "nbformat": 4,
 "nbformat_minor": 5
}
