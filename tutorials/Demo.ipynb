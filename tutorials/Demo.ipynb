{
 "cells": [
  {
   "cell_type": "markdown",
   "id": "594b36f3-1d24-426b-8c72-5e25a05ded65",
   "metadata": {},
   "source": [
    "<div align=\"center\"> \n",
    "    <br>\n",
    "    <br>\n",
    "    <img src=\"https://raw.githubusercontent.com/AI-team-UoA/pyJedAI/main/documentation/pyjedai.logo.drawio.png?raw=true\" alt=\"drawing\" width=\"400\"/>\n",
    "    <br>\n",
    "    <br>\n",
    "</div>\n",
    "<hr>\n",
    "\n",
    "In this notebook we present the pyJedAI approach. pyJedAI is a an end-to-end and an upcoming python framework for Entity Resolution that will be a manual of the Entity Resolution. Its usages will outperform other state-of-the-art ER frameworks as it's easy-to-use and highly optimized as it is consisted from other established python libraries (i.e pandas, networkX, ..)."
   ]
  },
  {
   "cell_type": "markdown",
   "id": "184fcaa5-99ec-4638-9c3e-9bf7f6161205",
   "metadata": {},
   "source": [
    "# Instalation\n",
    "\n",
    "pyJedAI is an open-source library that can be installed from PyPI.\n",
    "\n",
    "For more: [pypi.org/project/pyjedai/](https://pypi.org/project/pyjedai/)"
   ]
  },
  {
   "cell_type": "code",
   "execution_count": null,
   "id": "d06cb8d5-4fe0-414d-ac65-3d5960906f34",
   "metadata": {},
   "outputs": [],
   "source": [
    "!pip install pyjedai -U"
   ]
  },
  {
   "cell_type": "code",
   "execution_count": 6,
   "id": "3b08196c-00db-430a-b784-3e5a472c8dbd",
   "metadata": {},
   "outputs": [
    {
     "name": "stdout",
     "output_type": "stream",
     "text": [
      "Name: pyjedai\n",
      "Version: 0.0.3\n",
      "Summary: An open-source library that builds powerful end-to-end Entity Resolution workflows.\n",
      "Home-page: \n",
      "Author: \n",
      "Author-email: Konstantinos Nikoletos <nikoletos.kon@gmail.com>, George Papadakis <gpapadis84@gmail.com>\n",
      "License: Apache Software License 2.0\n",
      "Location: c:\\users\\nikol\\appdata\\local\\programs\\python\\python310\\lib\\site-packages\n",
      "Requires: faiss-cpu, gensim, matplotlib, matplotlib-inline, networkx, nltk, numpy, optuna, pandas, pandas-profiling, pandocfilters, PyYAML, rdflib, rdfpandas, regex, scipy, seaborn, sentence-transformers, strsim, strsimpy, tomli, tqdm, transformers\n",
      "Required-by: \n"
     ]
    }
   ],
   "source": [
    "!pip show pyjedai"
   ]
  },
  {
   "cell_type": "markdown",
   "id": "64dc1f28-c9c2-40b2-a50b-b0bcffe405e1",
   "metadata": {
    "tags": []
   },
   "source": [
    "# Reading the dataset - Clean-Clean ER example\n",
    "\n",
    "pyJedAI in order to perfrom needs only the tranformation of the initial data into a pandas DataFrame. Hence, pyJedAI can function in every structured or semi-structured data. In this case Abt-Buy dataset is provided as .csv files. \n",
    "\n",
    "<div align=\"center\">\n",
    "    <img align=\"center\" src=\"https://github.com/AI-team-UoA/pyJedAI/blob/main/documentation/reading-process.png?raw=true\" width=\"800\" />\n",
    "</div>\n",
    "\n",
    "\n",
    "## pyjedai <Data\\> module\n",
    "\n",
    "Data module offers a numpber of options\n",
    "- Selecting the parameters (columns) of the dataframe, in D1 (and in D2)\n",
    "- Prints a detailed text analysis\n",
    "- Stores a hidden mapping of the ids, and creates if it is not exist.\n"
   ]
  },
  {
   "cell_type": "code",
   "execution_count": 10,
   "id": "b7ad9d02-946f-4afb-9150-6b199aeae143",
   "metadata": {},
   "outputs": [],
   "source": [
    "import pandas as pd\n",
    "\n",
    "from pyjedai.datamodel import Data\n",
    "\n",
    "d1 = pd.read_csv(\"./../data/D2/abt.csv\", sep='|', engine='python', na_filter=False).astype(str)\n",
    "d2 = pd.read_csv(\"./../data/D2/buy.csv\", sep='|', engine='python', na_filter=False).astype(str)\n",
    "gt = pd.read_csv(\"./../data/D2/gt.csv\", sep='|', engine='python')\n",
    "\n",
    "data = Data(\n",
    "    dataset_1=d1,\n",
    "    attributes_1=['id','name','description'],\n",
    "    id_column_name_1='id',\n",
    "    dataset_2=d2,\n",
    "    attributes_2=['id','name','description'],\n",
    "    id_column_name_2='id',\n",
    "    ground_truth=gt,\n",
    ")\n",
    "\n",
    "data.process()"
   ]
  },
  {
   "cell_type": "code",
   "execution_count": 11,
   "id": "d6bebdf5-f014-4f9d-af70-42f8921fd189",
   "metadata": {},
   "outputs": [
    {
     "name": "stdout",
     "output_type": "stream",
     "text": [
      "Type of Entity Resolution:  Clean-Clean\n",
      "Number of entities in D1:  1076\n",
      "Attributes provided  for D1:  ['id', 'name', 'description']\n",
      "\n",
      "Number of entities in D2:  1076\n",
      "Attributes provided  for D2:  ['id', 'name', 'description']\n",
      "\n",
      "Total number of entities:  2152\n",
      "Number of matching pairs in ground-truth:  1076\n"
     ]
    }
   ],
   "source": [
    "data.print_specs()"
   ]
  },
  {
   "cell_type": "code",
   "execution_count": 12,
   "id": "969a133f-d78a-457f-a56e-426a6fd8951c",
   "metadata": {},
   "outputs": [
    {
     "data": {
      "text/html": [
       "<div>\n",
       "<style scoped>\n",
       "    .dataframe tbody tr th:only-of-type {\n",
       "        vertical-align: middle;\n",
       "    }\n",
       "\n",
       "    .dataframe tbody tr th {\n",
       "        vertical-align: top;\n",
       "    }\n",
       "\n",
       "    .dataframe thead th {\n",
       "        text-align: right;\n",
       "    }\n",
       "</style>\n",
       "<table border=\"1\" class=\"dataframe\">\n",
       "  <thead>\n",
       "    <tr style=\"text-align: right;\">\n",
       "      <th></th>\n",
       "      <th>id</th>\n",
       "      <th>name</th>\n",
       "      <th>description</th>\n",
       "      <th>price</th>\n",
       "    </tr>\n",
       "  </thead>\n",
       "  <tbody>\n",
       "    <tr>\n",
       "      <th>0</th>\n",
       "      <td>0</td>\n",
       "      <td>Sony Turntable - PSLX350H</td>\n",
       "      <td>Sony Turntable - PSLX350H/ Belt Drive System/ ...</td>\n",
       "      <td></td>\n",
       "    </tr>\n",
       "    <tr>\n",
       "      <th>1</th>\n",
       "      <td>1</td>\n",
       "      <td>Bose Acoustimass 5 Series III Speaker System -...</td>\n",
       "      <td>Bose Acoustimass 5 Series III Speaker System -...</td>\n",
       "      <td>399</td>\n",
       "    </tr>\n",
       "  </tbody>\n",
       "</table>\n",
       "</div>"
      ],
      "text/plain": [
       "  id                                               name  \\\n",
       "0  0                          Sony Turntable - PSLX350H   \n",
       "1  1  Bose Acoustimass 5 Series III Speaker System -...   \n",
       "\n",
       "                                         description price  \n",
       "0  Sony Turntable - PSLX350H/ Belt Drive System/ ...        \n",
       "1  Bose Acoustimass 5 Series III Speaker System -...   399  "
      ]
     },
     "execution_count": 12,
     "metadata": {},
     "output_type": "execute_result"
    }
   ],
   "source": [
    "data.dataset_1.head(2)"
   ]
  },
  {
   "cell_type": "code",
   "execution_count": 13,
   "id": "2eb152a8-3699-4512-aca7-c65712be02f0",
   "metadata": {},
   "outputs": [
    {
     "data": {
      "text/html": [
       "<div>\n",
       "<style scoped>\n",
       "    .dataframe tbody tr th:only-of-type {\n",
       "        vertical-align: middle;\n",
       "    }\n",
       "\n",
       "    .dataframe tbody tr th {\n",
       "        vertical-align: top;\n",
       "    }\n",
       "\n",
       "    .dataframe thead th {\n",
       "        text-align: right;\n",
       "    }\n",
       "</style>\n",
       "<table border=\"1\" class=\"dataframe\">\n",
       "  <thead>\n",
       "    <tr style=\"text-align: right;\">\n",
       "      <th></th>\n",
       "      <th>id</th>\n",
       "      <th>name</th>\n",
       "      <th>description</th>\n",
       "      <th>price</th>\n",
       "    </tr>\n",
       "  </thead>\n",
       "  <tbody>\n",
       "    <tr>\n",
       "      <th>0</th>\n",
       "      <td>0</td>\n",
       "      <td>Linksys EtherFast EZXS88W Ethernet Switch - EZ...</td>\n",
       "      <td>Linksys EtherFast 8-Port 10/100 Switch (New/Wo...</td>\n",
       "      <td></td>\n",
       "    </tr>\n",
       "    <tr>\n",
       "      <th>1</th>\n",
       "      <td>1</td>\n",
       "      <td>Linksys EtherFast EZXS55W Ethernet Switch</td>\n",
       "      <td>5 x 10/100Base-TX LAN</td>\n",
       "      <td></td>\n",
       "    </tr>\n",
       "  </tbody>\n",
       "</table>\n",
       "</div>"
      ],
      "text/plain": [
       "  id                                               name  \\\n",
       "0  0  Linksys EtherFast EZXS88W Ethernet Switch - EZ...   \n",
       "1  1          Linksys EtherFast EZXS55W Ethernet Switch   \n",
       "\n",
       "                                         description price  \n",
       "0  Linksys EtherFast 8-Port 10/100 Switch (New/Wo...        \n",
       "1                              5 x 10/100Base-TX LAN        "
      ]
     },
     "execution_count": 13,
     "metadata": {},
     "output_type": "execute_result"
    }
   ],
   "source": [
    "data.dataset_2.head(2)"
   ]
  },
  {
   "cell_type": "code",
   "execution_count": 14,
   "id": "9afbae1d-9610-4c6e-a430-105aedb92b9d",
   "metadata": {},
   "outputs": [
    {
     "data": {
      "text/html": [
       "<div>\n",
       "<style scoped>\n",
       "    .dataframe tbody tr th:only-of-type {\n",
       "        vertical-align: middle;\n",
       "    }\n",
       "\n",
       "    .dataframe tbody tr th {\n",
       "        vertical-align: top;\n",
       "    }\n",
       "\n",
       "    .dataframe thead th {\n",
       "        text-align: right;\n",
       "    }\n",
       "</style>\n",
       "<table border=\"1\" class=\"dataframe\">\n",
       "  <thead>\n",
       "    <tr style=\"text-align: right;\">\n",
       "      <th></th>\n",
       "      <th>D1</th>\n",
       "      <th>D2</th>\n",
       "    </tr>\n",
       "  </thead>\n",
       "  <tbody>\n",
       "    <tr>\n",
       "      <th>0</th>\n",
       "      <td>206</td>\n",
       "      <td>216</td>\n",
       "    </tr>\n",
       "    <tr>\n",
       "      <th>1</th>\n",
       "      <td>60</td>\n",
       "      <td>46</td>\n",
       "    </tr>\n",
       "  </tbody>\n",
       "</table>\n",
       "</div>"
      ],
      "text/plain": [
       "    D1   D2\n",
       "0  206  216\n",
       "1   60   46"
      ]
     },
     "execution_count": 14,
     "metadata": {},
     "output_type": "execute_result"
    }
   ],
   "source": [
    "data.ground_truth.head(2)"
   ]
  },
  {
   "cell_type": "markdown",
   "id": "73f47dcf-8628-4fe8-bdbc-3122fb94bcba",
   "metadata": {},
   "source": [
    "# Creating workflow using pyJedAI methods\n",
    "\n",
    "Multiple algorithms, techniques and features have already been implemented. This way, we can import the method and proceed to the workflow architecture.\n",
    "\n",
    "For example we demostrate a variety of algorithms in each step, as it is shown in the bellow cell."
   ]
  },
  {
   "cell_type": "code",
   "execution_count": 15,
   "id": "ccead4e2-69e1-47e2-86e9-b14b3dba9fc2",
   "metadata": {},
   "outputs": [],
   "source": [
    "from pyjedai.workflow import WorkFlow, compare_workflows\n",
    "from pyjedai.block_building import (\n",
    "    StandardBlocking, QGramsBlocking, ExtendedQGramsBlocking, \n",
    "    SuffixArraysBlocking, ExtendedSuffixArraysBlocking\n",
    ")\n",
    "from pyjedai.block_cleaning import BlockFiltering, BlockPurging\n",
    "from pyjedai.comparison_cleaning import (\n",
    "    WeightedEdgePruning, WeightedNodePruning, CardinalityEdgePruning, \n",
    "    CardinalityNodePruning, BLAST, ReciprocalCardinalityNodePruning, \n",
    "    ReciprocalWeightedNodePruning, ComparisonPropagation\n",
    ")\n",
    "from pyjedai.matching import EntityMatching\n",
    "from pyjedai.clustering import ConnectedComponentsClustering"
   ]
  },
  {
   "cell_type": "markdown",
   "id": "8428023e-ab20-4c6f-994c-9800bc807c07",
   "metadata": {},
   "source": [
    "## Building a simple WorkFlow\n",
    "\n",
    "The main workflow that pyjedai supports, consists of 8 steps:\n",
    "\n",
    "- __Data Reading:__ Raw data in the pandas\\<DataFrame\\> format are transformed to pyjedai\\<Data\\>\n",
    "- __Block Building__: In this step we create blocks of entities based on some tokenization techniques like QGrams, SuffixArray, etc.\n",
    "- __Block Filtering, Block Purging, Cardnality Edge Pruning__: These methods reduce the amount of comparisons by removing entities from the blocks or producing a much more dence index.    \n",
    "- __Entity Matching__: The similarity checking phase. Each block is now tested for similarity. Meaning that all entities contained in the block will be mesaured for similarity using a metric like Jaccard.\n",
    "- __Connected Components Clustering__: Creates clusters of similarity based on the graph produced from the entity matching step.\n",
    "- __Results__: Finally, pyjedai produces a set of pairs that apper to be duplicates, scores as well as visualizations that help users understand the workflow performance. \n",
    "\n",
    "For this demo, we created a simple architecture as we see bellow:"
   ]
  },
  {
   "cell_type": "markdown",
   "id": "639388e5-1fd8-45c1-8502-6d1ac6b11eee",
   "metadata": {},
   "source": [
    "\n",
    "![workflow-example.png](https://github.com/AI-team-UoA/pyJedAI/blob/main/documentation/workflow-example.png?raw=true)"
   ]
  },
  {
   "cell_type": "code",
   "execution_count": 16,
   "id": "0a7ff49d-60a5-43d7-9396-34b780d4ccd4",
   "metadata": {},
   "outputs": [],
   "source": [
    "w = WorkFlow(\n",
    "    block_building = dict(\n",
    "        method=QGramsBlocking, \n",
    "        params=dict(qgrams=3)\n",
    "    ),\n",
    "    block_cleaning = [\n",
    "        dict(\n",
    "            method=BlockFiltering, \n",
    "            params=dict(ratio=0.8)\n",
    "        ),\n",
    "        dict(\n",
    "            method=BlockPurging,\n",
    "            params=dict(smoothing_factor=1.025)\n",
    "        )\n",
    "    ],\n",
    "    comparison_cleaning = dict(method=CardinalityEdgePruning),\n",
    "    entity_matching = dict(\n",
    "        method=EntityMatching, \n",
    "        metric='sorensen_dice',\n",
    "        similarity_threshold=0.5,\n",
    "        attributes = ['description', 'name']\n",
    "    ),\n",
    "    clustering = dict(method=ConnectedComponentsClustering),\n",
    "    name=\"Worflow-QGramsBlocking\"\n",
    ")"
   ]
  },
  {
   "cell_type": "markdown",
   "id": "22f983ad-bd24-496c-a85f-1ef206fbdbef",
   "metadata": {},
   "source": [
    "# Evaluation and detailed reporting"
   ]
  },
  {
   "cell_type": "code",
   "execution_count": 17,
   "id": "ebc4ac86-0ad8-413d-b339-b9401cb4e8e2",
   "metadata": {},
   "outputs": [
    {
     "data": {
      "application/vnd.jupyter.widget-view+json": {
       "model_id": "ad4d1b575b4f4bada4d39d315f05c603",
       "version_major": 2,
       "version_minor": 0
      },
      "text/plain": [
       "Worflow-QGramsBlocking:   0%|          | 0/5 [00:00<?, ?it/s]"
      ]
     },
     "metadata": {},
     "output_type": "display_data"
    }
   ],
   "source": [
    "w.run(data, workflow_tqdm_enable=True, verbose=False)"
   ]
  },
  {
   "cell_type": "code",
   "execution_count": 18,
   "id": "f53057c4-2d59-4669-9b54-9f6221c239c8",
   "metadata": {},
   "outputs": [
    {
     "data": {
      "text/html": [
       "<div>\n",
       "<style scoped>\n",
       "    .dataframe tbody tr th:only-of-type {\n",
       "        vertical-align: middle;\n",
       "    }\n",
       "\n",
       "    .dataframe tbody tr th {\n",
       "        vertical-align: top;\n",
       "    }\n",
       "\n",
       "    .dataframe thead th {\n",
       "        text-align: right;\n",
       "    }\n",
       "</style>\n",
       "<table border=\"1\" class=\"dataframe\">\n",
       "  <thead>\n",
       "    <tr style=\"text-align: right;\">\n",
       "      <th></th>\n",
       "      <th>Algorithm</th>\n",
       "      <th>F1</th>\n",
       "      <th>Recall</th>\n",
       "      <th>Precision</th>\n",
       "      <th>Runtime (sec)</th>\n",
       "      <th>Params</th>\n",
       "    </tr>\n",
       "  </thead>\n",
       "  <tbody>\n",
       "    <tr>\n",
       "      <th>0</th>\n",
       "      <td>Q-Grams Blocking</td>\n",
       "      <td>0.041641</td>\n",
       "      <td>100.000000</td>\n",
       "      <td>0.020825</td>\n",
       "      <td>0.393975</td>\n",
       "      <td>{'Q-Gramms': 3}</td>\n",
       "    </tr>\n",
       "    <tr>\n",
       "      <th>1</th>\n",
       "      <td>Block Filtering</td>\n",
       "      <td>0.029729</td>\n",
       "      <td>100.000000</td>\n",
       "      <td>0.014867</td>\n",
       "      <td>0.231038</td>\n",
       "      <td>{'Ratio': 0.8}</td>\n",
       "    </tr>\n",
       "    <tr>\n",
       "      <th>2</th>\n",
       "      <td>Block Purging</td>\n",
       "      <td>0.023116</td>\n",
       "      <td>100.000000</td>\n",
       "      <td>0.011559</td>\n",
       "      <td>0.022002</td>\n",
       "      <td>{'Smoothing factor': 1.025, 'Max Comparisons p...</td>\n",
       "    </tr>\n",
       "    <tr>\n",
       "      <th>3</th>\n",
       "      <td>Cardinality Edge Pruning</td>\n",
       "      <td>3.383632</td>\n",
       "      <td>98.884758</td>\n",
       "      <td>1.721265</td>\n",
       "      <td>3.764078</td>\n",
       "      <td>{'Node centric': False, 'Weighting scheme': 'JS'}</td>\n",
       "    </tr>\n",
       "    <tr>\n",
       "      <th>4</th>\n",
       "      <td>Entity Matching</td>\n",
       "      <td>3.383632</td>\n",
       "      <td>98.884758</td>\n",
       "      <td>1.721265</td>\n",
       "      <td>34.352360</td>\n",
       "      <td>{'Metric': 'sorensen_dice', 'Embeddings': None...</td>\n",
       "    </tr>\n",
       "    <tr>\n",
       "      <th>5</th>\n",
       "      <td>Connected Components Clustering</td>\n",
       "      <td>0.176289</td>\n",
       "      <td>99.907063</td>\n",
       "      <td>0.088222</td>\n",
       "      <td>0.003999</td>\n",
       "      <td>{}</td>\n",
       "    </tr>\n",
       "  </tbody>\n",
       "</table>\n",
       "</div>"
      ],
      "text/plain": [
       "                         Algorithm        F1      Recall  Precision  \\\n",
       "0                 Q-Grams Blocking  0.041641  100.000000   0.020825   \n",
       "1                  Block Filtering  0.029729  100.000000   0.014867   \n",
       "2                    Block Purging  0.023116  100.000000   0.011559   \n",
       "3         Cardinality Edge Pruning  3.383632   98.884758   1.721265   \n",
       "4                  Entity Matching  3.383632   98.884758   1.721265   \n",
       "5  Connected Components Clustering  0.176289   99.907063   0.088222   \n",
       "\n",
       "   Runtime (sec)                                             Params  \n",
       "0       0.393975                                    {'Q-Gramms': 3}  \n",
       "1       0.231038                                     {'Ratio': 0.8}  \n",
       "2       0.022002  {'Smoothing factor': 1.025, 'Max Comparisons p...  \n",
       "3       3.764078  {'Node centric': False, 'Weighting scheme': 'JS'}  \n",
       "4      34.352360  {'Metric': 'sorensen_dice', 'Embeddings': None...  \n",
       "5       0.003999                                                 {}  "
      ]
     },
     "execution_count": 18,
     "metadata": {},
     "output_type": "execute_result"
    }
   ],
   "source": [
    "w.to_df()"
   ]
  },
  {
   "cell_type": "markdown",
   "id": "cf9a959c-1cb0-416f-8a59-e1d7122de047",
   "metadata": {},
   "source": [
    "# Visualization"
   ]
  },
  {
   "cell_type": "code",
   "execution_count": 24,
   "id": "15814d8e-ec89-45b3-973a-e5b7658bd850",
   "metadata": {},
   "outputs": [
    {
     "data": {
      "image/png": "[encoded data removed]",
      "text/plain": [
       "<Figure size 720x576 with 2 Axes>"
      ]
     },
     "metadata": {
      "needs_background": "light"
     },
     "output_type": "display_data"
    }
   ],
   "source": [
    "w.visualize()"
   ]
  },
  {
   "cell_type": "code",
   "execution_count": 20,
   "id": "5fa8914c-3f9d-4a13-a587-3dd12558ba15",
   "metadata": {},
   "outputs": [
    {
     "data": {
      "image/png": "[encoded data removed]",
      "text/plain": [
       "<Figure size 720x576 with 4 Axes>"
      ]
     },
     "metadata": {
      "needs_background": "light"
     },
     "output_type": "display_data"
    }
   ],
   "source": [
    "w.visualize(separate=True)"
   ]
  },
  {
   "cell_type": "markdown",
   "id": "10b11e61-daab-4a7d-a3dd-55aa277c1203",
   "metadata": {},
   "source": [
    "# Multiple workflows\n",
    "\n",
    "pyJedAI provides methods for comparing multiple workflows. For example, we can test the above example with all the Block Building methods provided.\n"
   ]
  },
  {
   "cell_type": "code",
   "execution_count": 21,
   "id": "ee4824e3-47e5-44bf-9cca-7a1463619c57",
   "metadata": {},
   "outputs": [
    {
     "data": {
      "application/vnd.jupyter.widget-view+json": {
       "model_id": "e0831cd2678f46afb4deea2a0866ad56",
       "version_major": 2,
       "version_minor": 0
      },
      "text/plain": [
       "Workflow-StandardBlocking:   0%|          | 0/5 [00:00<?, ?it/s]"
      ]
     },
     "metadata": {},
     "output_type": "display_data"
    },
    {
     "data": {
      "application/vnd.jupyter.widget-view+json": {
       "model_id": "87aa77fd9b684feaa398836f4f2b4084",
       "version_major": 2,
       "version_minor": 0
      },
      "text/plain": [
       "Workflow-QGramsBlocking:   0%|          | 0/5 [00:00<?, ?it/s]"
      ]
     },
     "metadata": {},
     "output_type": "display_data"
    },
    {
     "data": {
      "application/vnd.jupyter.widget-view+json": {
       "model_id": "6e88d8f96aaa4b2cac45596192e0828a",
       "version_major": 2,
       "version_minor": 0
      },
      "text/plain": [
       "Workflow-ExtendedQGramsBlocking:   0%|          | 0/5 [00:00<?, ?it/s]"
      ]
     },
     "metadata": {},
     "output_type": "display_data"
    },
    {
     "data": {
      "application/vnd.jupyter.widget-view+json": {
       "model_id": "9798e122957d44c28e7f1aea766929a5",
       "version_major": 2,
       "version_minor": 0
      },
      "text/plain": [
       "Workflow-SuffixArraysBlocking:   0%|          | 0/5 [00:00<?, ?it/s]"
      ]
     },
     "metadata": {},
     "output_type": "display_data"
    },
    {
     "data": {
      "application/vnd.jupyter.widget-view+json": {
       "model_id": "1ca85dfc9bc643a8b1ead1762febd40a",
       "version_major": 2,
       "version_minor": 0
      },
      "text/plain": [
       "Workflow-ExtendedSuffixArraysBlocking:   0%|          | 0/5 [00:00<?, ?it/s]"
      ]
     },
     "metadata": {},
     "output_type": "display_data"
    }
   ],
   "source": [
    "block_building_methods = [StandardBlocking, QGramsBlocking, ExtendedQGramsBlocking, SuffixArraysBlocking, ExtendedSuffixArraysBlocking]\n",
    "workflows = []\n",
    "for bbm in block_building_methods:\n",
    "    workflows.append(WorkFlow(\n",
    "        block_building = dict(\n",
    "            method=bbm, \n",
    "        ),\n",
    "        block_cleaning = [\n",
    "            dict(\n",
    "                method=BlockFiltering, \n",
    "                params=dict(ratio=0.8)\n",
    "            ),\n",
    "            dict(\n",
    "                method=BlockPurging,\n",
    "                params=dict(smoothing_factor=1.025)\n",
    "            )\n",
    "        ],\n",
    "        comparison_cleaning = dict(method=CardinalityEdgePruning),\n",
    "        entity_matching = dict(\n",
    "            method=EntityMatching,\n",
    "            metric='sorensen_dice',\n",
    "            similarity_threshold=0.5,\n",
    "            attributes = ['description', 'name']\n",
    "        ),\n",
    "        clustering = dict(method=ConnectedComponentsClustering),\n",
    "        name=\"Workflow-\"+str(bbm.__name__)\n",
    "    ))\n",
    "    workflows[-1].run(data, workflow_tqdm_enable=True)"
   ]
  },
  {
   "cell_type": "code",
   "execution_count": 22,
   "id": "206de1b6-0463-4b58-bc9a-5c0ae2963fdc",
   "metadata": {},
   "outputs": [
    {
     "data": {
      "image/png": "[encoded data removed]",
      "text/plain": [
       "<Figure size 720x576 with 4 Axes>"
      ]
     },
     "metadata": {
      "needs_background": "light"
     },
     "output_type": "display_data"
    },
    {
     "data": {
      "text/html": [
       "<div>\n",
       "<style scoped>\n",
       "    .dataframe tbody tr th:only-of-type {\n",
       "        vertical-align: middle;\n",
       "    }\n",
       "\n",
       "    .dataframe tbody tr th {\n",
       "        vertical-align: top;\n",
       "    }\n",
       "\n",
       "    .dataframe thead th {\n",
       "        text-align: right;\n",
       "    }\n",
       "</style>\n",
       "<table border=\"1\" class=\"dataframe\">\n",
       "  <thead>\n",
       "    <tr style=\"text-align: right;\">\n",
       "      <th></th>\n",
       "      <th>Name</th>\n",
       "      <th>F1</th>\n",
       "      <th>Recall</th>\n",
       "      <th>Precision</th>\n",
       "      <th>Runtime (sec)</th>\n",
       "    </tr>\n",
       "  </thead>\n",
       "  <tbody>\n",
       "    <tr>\n",
       "      <th>0</th>\n",
       "      <td>Workflow-StandardBlocking</td>\n",
       "      <td>0.197932</td>\n",
       "      <td>97.862454</td>\n",
       "      <td>0.099066</td>\n",
       "      <td>10.967764</td>\n",
       "    </tr>\n",
       "    <tr>\n",
       "      <th>1</th>\n",
       "      <td>Workflow-QGramsBlocking</td>\n",
       "      <td>0.182086</td>\n",
       "      <td>98.884758</td>\n",
       "      <td>0.091127</td>\n",
       "      <td>17.006940</td>\n",
       "    </tr>\n",
       "    <tr>\n",
       "      <th>2</th>\n",
       "      <td>Workflow-ExtendedQGramsBlocking</td>\n",
       "      <td>0.181989</td>\n",
       "      <td>98.791822</td>\n",
       "      <td>0.091078</td>\n",
       "      <td>19.250524</td>\n",
       "    </tr>\n",
       "    <tr>\n",
       "      <th>3</th>\n",
       "      <td>Workflow-SuffixArraysBlocking</td>\n",
       "      <td>0.183603</td>\n",
       "      <td>99.814126</td>\n",
       "      <td>0.091886</td>\n",
       "      <td>8.559587</td>\n",
       "    </tr>\n",
       "    <tr>\n",
       "      <th>4</th>\n",
       "      <td>Workflow-ExtendedSuffixArraysBlocking</td>\n",
       "      <td>0.183203</td>\n",
       "      <td>99.907063</td>\n",
       "      <td>0.091685</td>\n",
       "      <td>10.580076</td>\n",
       "    </tr>\n",
       "  </tbody>\n",
       "</table>\n",
       "</div>"
      ],
      "text/plain": [
       "                                    Name        F1     Recall  Precision  \\\n",
       "0              Workflow-StandardBlocking  0.197932  97.862454   0.099066   \n",
       "1                Workflow-QGramsBlocking  0.182086  98.884758   0.091127   \n",
       "2        Workflow-ExtendedQGramsBlocking  0.181989  98.791822   0.091078   \n",
       "3          Workflow-SuffixArraysBlocking  0.183603  99.814126   0.091886   \n",
       "4  Workflow-ExtendedSuffixArraysBlocking  0.183203  99.907063   0.091685   \n",
       "\n",
       "   Runtime (sec)  \n",
       "0      10.967764  \n",
       "1      17.006940  \n",
       "2      19.250524  \n",
       "3       8.559587  \n",
       "4      10.580076  "
      ]
     },
     "execution_count": 22,
     "metadata": {},
     "output_type": "execute_result"
    }
   ],
   "source": [
    "compare_workflows(workflows, with_visualization=True)"
   ]
  },
  {
   "cell_type": "markdown",
   "id": "5c6fcab1-85d4-434d-8239-78a68048f272",
   "metadata": {},
   "source": [
    "<hr>\n",
    "<div align=\"right\">\n",
    "K. Nikoletos, G. Papadakis & M. Koubarakis\n",
    "</div>\n",
    "<div align=\"right\">\n",
    "<a href=\"https://github.com/Nikoletos-K/pyJedAI/blob/main/LICENSE\">Apache License 2.0</a>\n",
    "</div>"
   ]
  }
 ],
 "metadata": {
  "kernelspec": {
   "display_name": "Python 3 (ipykernel)",
   "language": "python",
   "name": "python3"
  },
  "language_info": {
   "codemirror_mode": {
    "name": "ipython",
    "version": 3
   },
   "file_extension": ".py",
   "mimetype": "text/x-python",
   "name": "python",
   "nbconvert_exporter": "python",
   "pygments_lexer": "ipython3",
   "version": "3.10.5"
  }
 },
 "nbformat": 4,
 "nbformat_minor": 5
}
