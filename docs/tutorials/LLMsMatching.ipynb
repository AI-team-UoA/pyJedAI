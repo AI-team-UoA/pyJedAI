{
 "cells": [
  {
   "cell_type": "markdown",
   "id": "2678870e",
   "metadata": {},
   "source": [
    "# Entity Matching with LLMs\n",
    "\n",
    "In this notebook we present the pyJedAI-llm approach in the well-known ABT-BUY dataset. Clean-Clean ER in the link discovery/deduplication between two sets of entities. "
   ]
  },
  {
   "cell_type": "markdown",
   "id": "2e3bd6f0",
   "metadata": {},
   "source": [
    "Dataset: __Abt-Buy dataset__ (D1)\n",
    "\n",
    "The Abt-Buy dataset for entity resolution derives from the online retailers Abt.com and Buy.com. The dataset contains 1076 entities from abt.com and 1076 entities from buy.com as well as a gold standard (perfect mapping) with 1076 matching record pairs between the two data sources. The common attributes between the two data sources are: product name, product description and product price."
   ]
  },
  {
   "cell_type": "markdown",
   "id": "44ad6601",
   "metadata": {},
   "source": [
    "## Prerequisites \n",
    "\n",
    "### [Ollama](https://ollama.com)\n",
    "\n",
    "Ollama is an open-source tool that allows you to run large language models (LLMs) directly on your local machine.\n",
    "\n",
    "[Download](https://ollama.com/download) or: \n"
   ]
  },
  {
   "cell_type": "code",
   "execution_count": null,
   "id": "8917e7f8",
   "metadata": {},
   "outputs": [],
   "source": [
    "#Linux Command \n",
    "\n",
    "!curl -fsSL https://ollama.com/install.sh | sh"
   ]
  },
  {
   "cell_type": "markdown",
   "id": "9ecd5f39",
   "metadata": {},
   "source": [
    "Open new terminal and run `$ollama serve` or: "
   ]
  },
  {
   "cell_type": "code",
   "execution_count": null,
   "id": "ba7ba2b3",
   "metadata": {},
   "outputs": [
    {
     "name": "stderr",
     "output_type": "stream",
     "text": [
      "Error: listen tcp 127.0.0.1:11434: bind: address already in use\n"
     ]
    }
   ],
   "source": [
    "# start ollama server as a background process\n",
    "import subprocess\n",
    "\n",
    "process = subprocess.Popen(\"ollama serve\", shell=True)"
   ]
  },
  {
   "cell_type": "markdown",
   "id": "39c07874",
   "metadata": {},
   "source": [
    "## How to install?\n",
    "\n",
    "### pyJedAI\n",
    "\n",
    "pyJedAI is an open-source library that can be installed from PyPI.\n",
    "\n",
    "For more: [pypi.org/project/pyjedai/](https://pypi.org/project/pyjedai/)"
   ]
  },
  {
   "cell_type": "code",
   "execution_count": 5,
   "id": "39ab87fd",
   "metadata": {},
   "outputs": [
    {
     "name": "stdout",
     "output_type": "stream",
     "text": [
      "Found existing installation: pyjedai 0.2.5\n",
      "Uninstalling pyjedai-0.2.5:\n",
      "  Successfully uninstalled pyjedai-0.2.5\n"
     ]
    }
   ],
   "source": [
    "!pip uninstall pyjedai -y"
   ]
  },
  {
   "cell_type": "code",
   "execution_count": null,
   "id": "e17af350",
   "metadata": {},
   "outputs": [],
   "source": [
    "!pip show pyjedai"
   ]
  },
  {
   "cell_type": "markdown",
   "id": "516a59bf",
   "metadata": {},
   "source": [
    "Imports"
   ]
  },
  {
   "cell_type": "code",
   "execution_count": 1,
   "id": "15d15025",
   "metadata": {},
   "outputs": [],
   "source": [
    "import os\n",
    "import sys\n",
    "import pandas as pd\n",
    "import networkx\n",
    "import ollama\n",
    "from networkx import draw, Graph"
   ]
  },
  {
   "cell_type": "code",
   "execution_count": 2,
   "id": "768ce17f",
   "metadata": {},
   "outputs": [],
   "source": [
    "import pyjedai\n",
    "from pyjedai.utils import (\n",
    "    text_cleaning_method,\n",
    "    print_clusters,\n",
    "    print_blocks,\n",
    "    print_candidate_pairs\n",
    ")\n",
    "from pyjedai.evaluation import Evaluation"
   ]
  },
  {
   "cell_type": "markdown",
   "id": "19f2bbb1",
   "metadata": {},
   "source": [
    "# Data Reading\n",
    "\n",
    "pyJedAI in order to perfrom needs only the tranformation of the initial data into a pandas DataFrame. Hence, pyJedAI can function in every structured or semi-structured data. In this case Abt-Buy dataset is provided as .csv files. \n"
   ]
  },
  {
   "cell_type": "code",
   "execution_count": 3,
   "id": "37b9e25a",
   "metadata": {},
   "outputs": [],
   "source": [
    "from pyjedai.datamodel import Data\n",
    "from pyjedai.evaluation import Evaluation"
   ]
  },
  {
   "cell_type": "code",
   "execution_count": 5,
   "id": "cb2952da",
   "metadata": {},
   "outputs": [],
   "source": [
    "d1 = pd.read_csv(\"./../data/ccer/D2/abt.csv\", sep='|', engine='python', na_filter=False)\n",
    "d2 = pd.read_csv(\"./../data/ccer/D2/buy.csv\", sep='|', engine='python', na_filter=False)\n",
    "gt = pd.read_csv(\"./../data/ccer/D2/gt.csv\", sep='|', engine='python')\n",
    "\n",
    "data = Data(dataset_1=d1,\n",
    "            id_column_name_1='id',\n",
    "            dataset_2=d2,\n",
    "            id_column_name_2='id',\n",
    "            ground_truth=gt)"
   ]
  },
  {
   "cell_type": "markdown",
   "id": "a4ebff26",
   "metadata": {},
   "source": [
    "# Extracting Candidate Pairs\n",
    "\n",
    "In this notebook the main purpose is to guide the user through the process of using pyjedai with ollama. We are currently using the KNN-Join Filtering with over 90% recall. You can choose any other pyJedAI filtering method."
   ]
  },
  {
   "cell_type": "code",
   "execution_count": 6,
   "id": "8d8a3499",
   "metadata": {},
   "outputs": [
    {
     "name": "stderr",
     "output_type": "stream",
     "text": [
      "/home/teris45/pyJedAI-Dev/src/pyjedai/joins.py:13: TqdmWarning: IProgress not found. Please update jupyter and ipywidgets. See https://ipywidgets.readthedocs.io/en/stable/user_install.html\n",
      "  from tqdm.autonotebook import tqdm\n",
      "Top-K Join (cosine): 2152it [00:03, 582.11it/s]                           \n"
     ]
    }
   ],
   "source": [
    "from pyjedai.joins import TopKJoin\n",
    "\n",
    "join = TopKJoin(K=5, metric='cosine', tokenization='qgrams_multiset', qgrams=5)\n",
    "graph = join.fit(data)"
   ]
  },
  {
   "cell_type": "code",
   "execution_count": 7,
   "id": "72a6658c",
   "metadata": {},
   "outputs": [
    {
     "name": "stdout",
     "output_type": "stream",
     "text": [
      "Pulling model llama3.2:1b from ollama\n"
     ]
    }
   ],
   "source": [
    "from pyjedai.llm_matching import OllamaMatching\n",
    "\n",
    "llm_matcher = OllamaMatching('llama3.2:1b')\n"
   ]
  },
  {
   "cell_type": "code",
   "execution_count": 8,
   "id": "50454501",
   "metadata": {},
   "outputs": [
    {
     "name": "stderr",
     "output_type": "stream",
     "text": [
      "Embeddings-NN Block Building [sdistilroberta, faiss, cuda]: 100%|██████████| 2152/2152 [00:00<00:00, 15606.85it/s]\n"
     ]
    },
    {
     "name": "stdout",
     "output_type": "stream",
     "text": [
      "Created ollama model llama3.2:1b-tf\n"
     ]
    },
    {
     "name": "stderr",
     "output_type": "stream",
     "text": [
      "Ollama Matching [llama3.2:1b-tf]: 100%|██████████| 5449/5449 [18:56<00:00,  4.62it/s]"
     ]
    }
   ],
   "source": [
    "pairs = llm_matcher.process(prediction=graph, data=data, create_examples=True, suffix='tf')\n"
   ]
  },
  {
   "cell_type": "code",
   "execution_count": 9,
   "id": "8a2c942a",
   "metadata": {},
   "outputs": [
    {
     "data": {
      "text/html": [
       "<div>\n",
       "<style scoped>\n",
       "    .dataframe tbody tr th:only-of-type {\n",
       "        vertical-align: middle;\n",
       "    }\n",
       "\n",
       "    .dataframe tbody tr th {\n",
       "        vertical-align: top;\n",
       "    }\n",
       "\n",
       "    .dataframe thead th {\n",
       "        text-align: right;\n",
       "    }\n",
       "</style>\n",
       "<table border=\"1\" class=\"dataframe\">\n",
       "  <thead>\n",
       "    <tr style=\"text-align: right;\">\n",
       "      <th></th>\n",
       "      <th>id1</th>\n",
       "      <th>id2</th>\n",
       "    </tr>\n",
       "  </thead>\n",
       "  <tbody>\n",
       "    <tr>\n",
       "      <th>0</th>\n",
       "      <td>134</td>\n",
       "      <td>0</td>\n",
       "    </tr>\n",
       "    <tr>\n",
       "      <th>1</th>\n",
       "      <td>134</td>\n",
       "      <td>8</td>\n",
       "    </tr>\n",
       "    <tr>\n",
       "      <th>2</th>\n",
       "      <td>134</td>\n",
       "      <td>9</td>\n",
       "    </tr>\n",
       "    <tr>\n",
       "      <th>3</th>\n",
       "      <td>134</td>\n",
       "      <td>10</td>\n",
       "    </tr>\n",
       "    <tr>\n",
       "      <th>4</th>\n",
       "      <td>1020</td>\n",
       "      <td>0</td>\n",
       "    </tr>\n",
       "    <tr>\n",
       "      <th>...</th>\n",
       "      <td>...</td>\n",
       "      <td>...</td>\n",
       "    </tr>\n",
       "    <tr>\n",
       "      <th>4081</th>\n",
       "      <td>473</td>\n",
       "      <td>1051</td>\n",
       "    </tr>\n",
       "    <tr>\n",
       "      <th>4082</th>\n",
       "      <td>1019</td>\n",
       "      <td>1057</td>\n",
       "    </tr>\n",
       "    <tr>\n",
       "      <th>4083</th>\n",
       "      <td>1056</td>\n",
       "      <td>1070</td>\n",
       "    </tr>\n",
       "    <tr>\n",
       "      <th>4084</th>\n",
       "      <td>1062</td>\n",
       "      <td>1073</td>\n",
       "    </tr>\n",
       "    <tr>\n",
       "      <th>4085</th>\n",
       "      <td>1063</td>\n",
       "      <td>1073</td>\n",
       "    </tr>\n",
       "  </tbody>\n",
       "</table>\n",
       "<p>4086 rows × 2 columns</p>\n",
       "</div>"
      ],
      "text/plain": [
       "       id1   id2\n",
       "0      134     0\n",
       "1      134     8\n",
       "2      134     9\n",
       "3      134    10\n",
       "4     1020     0\n",
       "...    ...   ...\n",
       "4081   473  1051\n",
       "4082  1019  1057\n",
       "4083  1056  1070\n",
       "4084  1062  1073\n",
       "4085  1063  1073\n",
       "\n",
       "[4086 rows x 2 columns]"
      ]
     },
     "execution_count": 9,
     "metadata": {},
     "output_type": "execute_result"
    }
   ],
   "source": [
    "llm_matcher.export_to_df(pairs)"
   ]
  },
  {
   "cell_type": "code",
   "execution_count": 10,
   "id": "0698108c",
   "metadata": {},
   "outputs": [
    {
     "name": "stdout",
     "output_type": "stream",
     "text": [
      "***************************************************************************************************************************\n",
      "                                         Method:  Ollama Matching\n",
      "***************************************************************************************************************************\n",
      "Method name: Ollama Matching\n",
      "Parameters: \n",
      "\tLLM: llama3.2:1b-tf\n",
      "\tPrompt: You are given two record descriptions and your task is to identify\n",
      "if the records refer to the same entity or not.\n",
      "\n",
      "You must answer with just one word:\n",
      "True. if the records are referring to the same entity,\n",
      "False. if the records are referring to a different entity.\n",
      "\n",
      "Example 1\n",
      "record 1: skagen premium steel slimline mesh womens watch - 233xsgg skagen premium steel slimline mesh womens watch - 233xsgg/ stainless steel mesh band/ elegant round case/ mother-of-pearl dial/ chrome indicators 110\n",
      "record 2: 233xsgg - skagen  70\n",
      "Answer: True.\n",
      "Example 2\n",
      "record 1: sony vaio lv series silver all-in-one desktop computer - vgclv140j sony vaio lv series silver all-in-one desktop computer - vgclv140j/ 2.53ghz intel core 2 duo e7200 processor/ 4gb memory/ built-in 1.3 mp motion eye camera and microphone/ 320gb serial ata hard drive/ 24' xbrite-full hd lcd/ integrated stereo a2dp bluetooth technology/ two built-in 5.5 watt stereo speakers/ microsoft windows vista home premium 64-bit/ silver finish\n",
      "record 2: sony vaio lv all-in-one desktop - vgclv150j sony vaio vgc-lv150j desktop 24-inch all-in-one pc - 2.53 ghz intel core 2 duo e7200 processor 4 gb ram 500 gb hard drive blu-ray drive windows vista home premium- silver 1954.27\n",
      "Answer: False.\n",
      "Runtime: 1136.8081 seconds\n",
      "───────────────────────────────────────────────────────────────────────────────────────────────────────────────────────────\n",
      "Performance:\n",
      "\tPrecision:     17.38% \n",
      "\tRecall:        65.99%\n",
      "\tF1-score:      27.51%\n",
      "───────────────────────────────────────────────────────────────────────────────────────────────────────────────────────────\n"
     ]
    }
   ],
   "source": [
    "ev = llm_matcher.evaluate(pairs, verbose=True)"
   ]
  }
 ],
 "metadata": {
  "kernelspec": {
   "display_name": "pyjedai",
   "language": "python",
   "name": "python3"
  },
  "language_info": {
   "codemirror_mode": {
    "name": "ipython",
    "version": 3
   },
   "file_extension": ".py",
   "mimetype": "text/x-python",
   "name": "python",
   "nbconvert_exporter": "python",
   "pygments_lexer": "ipython3",
   "version": "3.9.21"
  }
 },
 "nbformat": 4,
 "nbformat_minor": 5
}
