{
 "cells": [
  {
   "cell_type": "markdown",
   "id": "96ec678e-b20c-4213-8616-542010f46342",
   "metadata": {},
   "source": [
    "\n",
    "# Clean-Clean Entity Resolution Tutorial <br> using Tf-Idf transformation.\n",
    "\n",
    "<div align=\"center\"> \n",
    "    <img src=\"https://scikit-learn.org/stable/_static/scikit-learn-logo-small.png\" style=\"width: 150px;\"/>\n",
    "</div>\n",
    "\n",
    "In this notebook we present the pyJedAI approach in the well-known ABT-BUY dataset. Clean-Clean ER in the link discovery/deduplication between two sets of entities.\n"
   ]
  },
  {
   "cell_type": "markdown",
   "id": "0629c164-b1c2-4538-bb99-ad358c72cbcf",
   "metadata": {
    "tags": []
   },
   "source": [
    "## How to install?\n",
    "\n",
    "pyJedAI is an open-source library that can be installed from PyPI.\n"
   ]
  },
  {
   "cell_type": "code",
   "execution_count": null,
   "id": "3f73d340-7110-4792-8193-19fe34f14d54",
   "metadata": {},
   "outputs": [],
   "source": [
    "!pip install pyjedai -U"
   ]
  },
  {
   "cell_type": "code",
   "execution_count": 2,
   "id": "0b433cc9-3d48-44ed-911e-3118514d3ca1",
   "metadata": {},
   "outputs": [
    {
     "name": "stdout",
     "output_type": "stream",
     "text": [
      "Name: pyjedai\n",
      "Version: 0.1.0\n",
      "Summary: An open-source library that builds powerful end-to-end Entity Resolution workflows.\n",
      "Home-page: \n",
      "Author: \n",
      "Author-email: Konstantinos Nikoletos <nikoletos.kon@gmail.com>, George Papadakis <gpapadis84@gmail.com>, Jakub Maciejewski <jacobb.maciejewski@gmail.com>, Manolis Koubarakis <koubarak@di.uoa.gr>\n",
      "License: Apache Software License 2.0\n",
      "Location: /home/jm/anaconda3/envs/pyjedai-new/lib/python3.8/site-packages\n",
      "Requires: faiss-cpu, gensim, matplotlib, matplotlib-inline, networkx, nltk, numpy, optuna, ordered-set, pandas, pandas-profiling, pandocfilters, plotly, py-stringmatching, PyYAML, rdflib, rdfpandas, regex, scipy, seaborn, sentence-transformers, strsim, strsimpy, tomli, tqdm, transformers, valentine\n",
      "Required-by: \n"
     ]
    }
   ],
   "source": [
    "!pip show pyjedai"
   ]
  },
  {
   "cell_type": "markdown",
   "id": "b11a4c12-b983-4529-8281-e6c886982397",
   "metadata": {},
   "source": [
    "Imports"
   ]
  },
  {
   "cell_type": "code",
   "execution_count": 3,
   "id": "6db50d83-51d8-4c95-9f27-30ef867338f2",
   "metadata": {},
   "outputs": [
    {
     "name": "stderr",
     "output_type": "stream",
     "text": [
      "[nltk_data] Downloading package stopwords to /home/jm/nltk_data...\n",
      "[nltk_data]   Package stopwords is already up-to-date!\n"
     ]
    }
   ],
   "source": [
    "import os\n",
    "import sys\n",
    "import pandas as pd\n",
    "import networkx\n",
    "from networkx import draw, Graph\n",
    "\n",
    "from pyjedai.utils import (\n",
    "    text_cleaning_method,\n",
    "    print_clusters,\n",
    "    print_blocks,\n",
    "    print_candidate_pairs\n",
    ")\n",
    "from pyjedai.evaluation import Evaluation\n",
    "from pyjedai.datamodel import Data\n",
    "d1 = pd.read_csv(\"../data/ccer/D2/abt.csv\", sep='|', engine='python')\n",
    "d2 = pd.read_csv(\"../data/ccer/D2/buy.csv\", sep='|', engine='python')\n",
    "gt = pd.read_csv(\"../data/ccer/D2/gt.csv\", sep='|', engine='python')\n",
    "\n",
    "data = Data(\n",
    "    dataset_1=d1,\n",
    "    id_column_name_1='id',\n",
    "    dataset_2=d2,\n",
    "    id_column_name_2='id',\n",
    "    ground_truth=gt\n",
    ")"
   ]
  },
  {
   "cell_type": "markdown",
   "id": "9c068252-4a69-405a-a320-c2875ec08ea5",
   "metadata": {},
   "source": [
    "# Simple workflow"
   ]
  },
  {
   "cell_type": "code",
   "execution_count": 4,
   "id": "9c1b6213-a218-40cf-bc72-801b77d28da9",
   "metadata": {},
   "outputs": [
    {
     "data": {
      "application/vnd.jupyter.widget-view+json": {
       "model_id": "1c9c771a7f9d4174a1b1c53be137923a",
       "version_major": 2,
       "version_minor": 0
      },
      "text/plain": [
       "Standard Blocking:   0%|          | 0/2152 [00:00<?, ?it/s]"
      ]
     },
     "metadata": {},
     "output_type": "display_data"
    },
    {
     "name": "stdout",
     "output_type": "stream",
     "text": [
      "***************************************************************************************************************************\n",
      "                                         Μethod:  Standard Blocking\n",
      "***************************************************************************************************************************\n",
      "Method name: Standard Blocking\n",
      "Parameters: \n",
      "Runtime: 0.6493 seconds\n",
      "───────────────────────────────────────────────────────────────────────────────────────────────────────────────────────────\n",
      "Performance:\n",
      "\tPrecision:      0.11% \n",
      "\tRecall:        99.81%\n",
      "\tF1-score:       0.23%\n",
      "───────────────────────────────────────────────────────────────────────────────────────────────────────────────────────────\n",
      "Classification report:\n",
      "\tTrue positives: 1074\n",
      "\tFalse positives: 948081\n",
      "\tTrue negatives: 1156698\n",
      "\tFalse negatives: 2\n",
      "\tTotal comparisons: 949155\n",
      "───────────────────────────────────────────────────────────────────────────────────────────────────────────────────────────\n"
     ]
    },
    {
     "data": {
      "application/vnd.jupyter.widget-view+json": {
       "model_id": "0f775d94c1664e6b9d47898a5ec77cfb",
       "version_major": 2,
       "version_minor": 0
      },
      "text/plain": [
       "Block Purging:   0%|          | 0/4264 [00:00<?, ?it/s]"
      ]
     },
     "metadata": {},
     "output_type": "display_data"
    },
    {
     "name": "stdout",
     "output_type": "stream",
     "text": [
      "***************************************************************************************************************************\n",
      "                                         Μethod:  Block Purging\n",
      "***************************************************************************************************************************\n",
      "Method name: Block Purging\n",
      "Parameters: \n",
      "\tSmoothing factor: 1.025\n",
      "\tMax Comparisons per Block: 13920.0\n",
      "Runtime: 0.0899 seconds\n",
      "───────────────────────────────────────────────────────────────────────────────────────────────────────────────────────────\n",
      "Performance:\n",
      "\tPrecision:      0.25% \n",
      "\tRecall:        99.81%\n",
      "\tF1-score:       0.49%\n",
      "───────────────────────────────────────────────────────────────────────────────────────────────────────────────────────────\n",
      "Classification report:\n",
      "\tTrue positives: 1074\n",
      "\tFalse positives: 436832\n",
      "\tTrue negatives: 1156698\n",
      "\tFalse negatives: 2\n",
      "\tTotal comparisons: 437906\n",
      "───────────────────────────────────────────────────────────────────────────────────────────────────────────────────────────\n"
     ]
    },
    {
     "data": {
      "application/vnd.jupyter.widget-view+json": {
       "model_id": "80f6818a5652455285e6e4bf94a76d72",
       "version_major": 2,
       "version_minor": 0
      },
      "text/plain": [
       "Block Filtering:   0%|          | 0/3 [00:00<?, ?it/s]"
      ]
     },
     "metadata": {},
     "output_type": "display_data"
    },
    {
     "data": {
      "application/vnd.jupyter.widget-view+json": {
       "model_id": "ebcf4c1253284923b48bc87b6c8341f7",
       "version_major": 2,
       "version_minor": 0
      },
      "text/plain": [
       "Cardinality Edge Pruning:   0%|          | 0/1076 [00:00<?, ?it/s]"
      ]
     },
     "metadata": {},
     "output_type": "display_data"
    },
    {
     "name": "stdout",
     "output_type": "stream",
     "text": [
      "***************************************************************************************************************************\n",
      "                                         Μethod:  Cardinality Edge Pruning\n",
      "***************************************************************************************************************************\n",
      "Method name: Cardinality Edge Pruning\n",
      "Parameters: \n",
      "\tNode centric: False\n",
      "\tWeighting scheme: X2\n",
      "Runtime: 13.3849 seconds\n",
      "───────────────────────────────────────────────────────────────────────────────────────────────────────────────────────────\n",
      "Performance:\n",
      "\tPrecision:      7.32% \n",
      "\tRecall:        93.77%\n",
      "\tF1-score:      13.58%\n",
      "───────────────────────────────────────────────────────────────────────────────────────────────────────────────────────────\n",
      "Classification report:\n",
      "\tTrue positives: 1009\n",
      "\tFalse positives: 12773\n",
      "\tTrue negatives: 1156633\n",
      "\tFalse negatives: 67\n",
      "\tTotal comparisons: 13782\n",
      "───────────────────────────────────────────────────────────────────────────────────────────────────────────────────────────\n"
     ]
    },
    {
     "data": {
      "text/plain": [
       "{'Precision %': 7.32114352053403,\n",
       " 'Recall %': 93.77323420074349,\n",
       " 'F1 %': 13.581908736034462,\n",
       " 'True Positives': 1009,\n",
       " 'False Positives': 12773,\n",
       " 'True Negatives': 1156633,\n",
       " 'False Negatives': 67}"
      ]
     },
     "execution_count": 4,
     "metadata": {},
     "output_type": "execute_result"
    }
   ],
   "source": [
    "from pyjedai.block_building import StandardBlocking\n",
    "from pyjedai.block_cleaning import BlockFiltering\n",
    "from pyjedai.block_cleaning import BlockPurging\n",
    "from pyjedai.comparison_cleaning import WeightedEdgePruning, WeightedNodePruning, CardinalityEdgePruning, CardinalityNodePruning\n",
    "from pyjedai.matching import EntityMatching\n",
    "\n",
    "sb = StandardBlocking()\n",
    "blocks = sb.build_blocks(data)\n",
    "sb.evaluate(blocks, with_classification_report=True)\n",
    "\n",
    "cbbp = BlockPurging()\n",
    "blocks = cbbp.process(blocks, data, tqdm_disable=False)\n",
    "cbbp.evaluate(blocks, with_classification_report=True)\n",
    "\n",
    "bf = BlockFiltering(ratio=0.8)\n",
    "blocks = bf.process(blocks, data, tqdm_disable=False)\n",
    "\n",
    "wep = CardinalityEdgePruning(weighting_scheme='X2')\n",
    "candidate_pairs_blocks = wep.process(blocks, data)\n",
    "wep.evaluate(candidate_pairs_blocks, with_classification_report=True)"
   ]
  },
  {
   "cell_type": "markdown",
   "id": "7f4ead03-11f5-4e19-9fd1-6dd7746e8a61",
   "metadata": {},
   "source": [
    "## Entity Matching with Tf-Idf configuration\n",
    "\n",
    "Available options with `metric='tf-idf'``:\n",
    "```\n",
    "tokenizer = {   'tfidf_char_1gram', ..., 'tfidf_char_6gram',\n",
    "                'tfidf_word_1gram', ..., 'tfidf_word_6gram',\n",
    "                'tf_char_1gram', ... , 'tf_char_6gram',\n",
    "                'tf_word_1gram', ... , 'tf_word_6gram',\n",
    "                'boolean_char_1gram', ... , 'boolean_char_6gram'\n",
    "                'boolean_word_1gram', ... , 'boolean_word_6gram'                \n",
    "```\n",
    "\n",
    "where: \n",
    "\n",
    "- `tdidf` literal calculates tf-idf in the whole dataset using TdidfVectorizer\n",
    "- `tf` literal calculates tf  in the whole dataset using CountVectorizer\n",
    "- `boolean` literal transforms tf-idf matrix to boolean\n",
    "\n",
    "and available metrics for vector similarity metric:\n",
    "\n",
    "- `metric = ['dice', 'jaccard', 'cosine']`\n"
   ]
  },
  {
   "cell_type": "code",
   "execution_count": 9,
   "id": "e0de660d-7170-4b4d-96d1-c07c2b36b40d",
   "metadata": {},
   "outputs": [
    {
     "data": {
      "application/vnd.jupyter.widget-view+json": {
       "model_id": "434054aa9c6c4aa4a67a86c19f8ea719",
       "version_major": 2,
       "version_minor": 0
      },
      "text/plain": [
       "Entity Matching (cosine, char_tokenizer):   0%|          | 0/1073 [00:00<?, ?it/s]"
      ]
     },
     "metadata": {},
     "output_type": "display_data"
    },
    {
     "name": "stdout",
     "output_type": "stream",
     "text": [
      "***************************************************************************************************************************\n",
      "                                         Μethod:  Entity Matching\n",
      "***************************************************************************************************************************\n",
      "Method name: Entity Matching\n",
      "Parameters: \n",
      "\tMetric: cosine\n",
      "\tAttributes: None\n",
      "\tSimilarity threshold: 0.0\n",
      "\tTokenizer: char_tokenizer\n",
      "\tVectorizer: tfidf\n",
      "\tQgrams: 3\n",
      "Runtime: 2.3742 seconds\n",
      "───────────────────────────────────────────────────────────────────────────────────────────────────────────────────────────\n",
      "Performance:\n",
      "\tPrecision:      7.32% \n",
      "\tRecall:        93.77%\n",
      "\tF1-score:      13.58%\n",
      "───────────────────────────────────────────────────────────────────────────────────────────────────────────────────────────\n"
     ]
    },
    {
     "data": {
      "text/plain": [
       "{'Precision %': 7.32114352053403,\n",
       " 'Recall %': 93.77323420074349,\n",
       " 'F1 %': 13.581908736034462,\n",
       " 'True Positives': 1009,\n",
       " 'False Positives': 12773,\n",
       " 'True Negatives': 1156633,\n",
       " 'False Negatives': 67}"
      ]
     },
     "execution_count": 9,
     "metadata": {},
     "output_type": "execute_result"
    }
   ],
   "source": [
    "em = EntityMatching(metric='cosine', \n",
    "                    tokenizer='char_tokenizer',\n",
    "                    vectorizer='tfidf',\n",
    "                    qgram=3,\n",
    "                    similarity_threshold=0.0)\n",
    "pairs_graph = em.predict(candidate_pairs_blocks, data)\n",
    "em.evaluate(pairs_graph)"
   ]
  },
  {
   "cell_type": "code",
   "execution_count": 10,
   "id": "7f773307-35d8-4a10-88c0-c6eda7356ec4",
   "metadata": {},
   "outputs": [
    {
     "data": {
      "image/png": "[encoded data removed]",
      "text/plain": [
       "<Figure size 1000x600 with 1 Axes>"
      ]
     },
     "metadata": {},
     "output_type": "display_data"
    }
   ],
   "source": [
    "em.plot_distribution_of_all_weights()"
   ]
  },
  {
   "cell_type": "code",
   "execution_count": 11,
   "id": "19d0eb71-ba9f-4613-9e18-9fd876b9f82d",
   "metadata": {},
   "outputs": [
    {
     "name": "stdout",
     "output_type": "stream",
     "text": [
      "Distribution-% of predicted scores:  [8.997242780438253, 34.20403424756929, 31.359744594398492, 14.576984472500362, 6.827746335800319, 2.7354520388913075, 0.9650268466115223, 0.3192570018865186, 0.014511681903932667, 0.0]\n"
     ]
    },
    {
     "data": {
      "image/png": "[encoded data removed]",
      "text/plain": [
       "<Figure size 1000x600 with 1 Axes>"
      ]
     },
     "metadata": {},
     "output_type": "display_data"
    }
   ],
   "source": [
    "em.plot_distribution_of_scores()"
   ]
  },
  {
   "cell_type": "markdown",
   "id": "07649cc9-b7e6-4acf-876b-ce5f97c00772",
   "metadata": {},
   "source": [
    "## Entity Clustering\n",
    "\n",
    "It takes as input the similarity graph produced by Entity Matching and partitions it into a set of equivalence clusters, with every cluster corresponding to a distinct real-world object."
   ]
  },
  {
   "cell_type": "code",
   "execution_count": 14,
   "id": "5a232214-58fc-4a70-8069-37f3fe974f9e",
   "metadata": {},
   "outputs": [],
   "source": [
    "from pyjedai.clustering import UniqueMappingClustering\n"
   ]
  },
  {
   "cell_type": "code",
   "execution_count": 15,
   "id": "6f8efe1d-b981-4fba-b5cf-2b28fb189ee2",
   "metadata": {},
   "outputs": [
    {
     "name": "stdout",
     "output_type": "stream",
     "text": [
      "***************************************************************************************************************************\n",
      "                                         Μethod:  Unique Mapping Clustering\n",
      "***************************************************************************************************************************\n",
      "Method name: Unique Mapping Clustering\n",
      "Parameters: \n",
      "Runtime: 0.2460 seconds\n",
      "───────────────────────────────────────────────────────────────────────────────────────────────────────────────────────────\n",
      "Performance:\n",
      "\tPrecision:     92.56% \n",
      "\tRecall:        87.92%\n",
      "\tF1-score:      90.18%\n",
      "───────────────────────────────────────────────────────────────────────────────────────────────────────────────────────────\n",
      "Classification report:\n",
      "\tTrue positives: 946\n",
      "\tFalse positives: 76\n",
      "\tTrue negatives: 1156570\n",
      "\tFalse negatives: 130\n",
      "\tTotal comparisons: 1022\n",
      "───────────────────────────────────────────────────────────────────────────────────────────────────────────────────────────\n"
     ]
    },
    {
     "data": {
      "text/plain": [
       "{'Precision %': 92.56360078277886,\n",
       " 'Recall %': 87.9182156133829,\n",
       " 'F1 %': 90.1811248808389,\n",
       " 'True Positives': 946,\n",
       " 'False Positives': 76,\n",
       " 'True Negatives': 1156570,\n",
       " 'False Negatives': 130}"
      ]
     },
     "execution_count": 15,
     "metadata": {},
     "output_type": "execute_result"
    }
   ],
   "source": [
    "umc = UniqueMappingClustering()\n",
    "clusters = umc.process(pairs_graph, data)\n",
    "umc.evaluate(clusters, with_classification_report=True)"
   ]
  },
  {
   "cell_type": "markdown",
   "id": "ac01eed9-25f4-41b2-8c18-e126901acd2a",
   "metadata": {},
   "source": [
    "<hr>\n",
    "<div align=\"right\">\n",
    "K. Nikoletos, J. Maciejewski, G. Papadakis & M. Koubarakis\n",
    "</div>\n",
    "<div align=\"right\">\n",
    "<a href=\"https://github.com/Nikoletos-K/pyJedAI/blob/main/LICENSE\">Apache License 2.0</a>\n",
    "</div>"
   ]
  },
  {
   "cell_type": "code",
   "execution_count": null,
   "id": "b3537920-78f1-4333-8448-04a584edc152",
   "metadata": {},
   "outputs": [],
   "source": []
  }
 ],
 "metadata": {
  "kernelspec": {
   "display_name": "Python 3 (ipykernel)",
   "language": "python",
   "name": "python3"
  },
  "language_info": {
   "codemirror_mode": {
    "name": "ipython",
    "version": 3
   },
   "file_extension": ".py",
   "mimetype": "text/x-python",
   "name": "python",
   "nbconvert_exporter": "python",
   "pygments_lexer": "ipython3",
   "version": "3.10.5"
  },
  "vscode": {
   "interpreter": {
    "hash": "824e5f4123a1a5b690f910010b2896a5dc6379151ca1c56e0c0465c15ebbd094"
   }
  }
 },
 "nbformat": 4,
 "nbformat_minor": 5
}
